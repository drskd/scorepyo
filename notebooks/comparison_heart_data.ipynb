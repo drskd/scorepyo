{
 "cells": [
  {
   "cell_type": "code",
   "execution_count": 1,
   "metadata": {},
   "outputs": [],
   "source": [
    "%load_ext autoreload\n",
    "%autoreload 2"
   ]
  },
  {
   "cell_type": "code",
   "execution_count": 2,
   "metadata": {},
   "outputs": [],
   "source": [
    "import numpy as np\n",
    "import pandas as pd\n",
    "\n",
    "\n",
    "\n",
    "columns = [\"age\" ,      \n",
    "      \"sex\"    ,\n",
    "      \"chest pain type\"  ,       \n",
    "      \"resting blood pressure\" ,\n",
    "      \"serum cholestoral in mg/dl\",      \n",
    "      \"fasting blood sugar > 120 mg/dl\",       \n",
    "      \"resting electrocardiographic results\",  \n",
    "      \"maximum heart rate achieved\" , \n",
    "      \"exercise induced angina\"    ,\n",
    "      \"oldpeak = ST depression induced by exercise relative to rest\"  , \n",
    "      \"the slope of the peak exercise ST segment\"     ,\n",
    "      \"number of major vessels (0-3) colored by flourosopy\",        \n",
    "       \"thal\", \"target\"]\n",
    "data = pd.read_csv(\"http://archive.ics.uci.edu/ml/machine-learning-databases/statlog/heart/heart.dat\",header=None, sep=\" \")\n",
    "data.columns=columns\n",
    "\n",
    "categorical_columns = ['sex', 'chest pain type','fasting blood sugar > 120 mg/dl',\"resting electrocardiographic results\",\"thal\",\"exercise induced angina\"]\n",
    "\n",
    "for c in categorical_columns:\n",
    "      data[c] = data[c].astype('category')\n",
    "else:\n",
    "      data[c] = data[c].astype(float)\n",
    "\n",
    "data[\"target\"] = np.where(data[\"target\"]==2,1,0)\n",
    "\n",
    "features = [c for c in columns if c !='target']\n",
    "X = data[features]\n",
    "\n",
    "\n",
    "\n",
    "\n",
    "y = data['target']"
   ]
  },
  {
   "cell_type": "code",
   "execution_count": 3,
   "metadata": {},
   "outputs": [
    {
     "data": {
      "text/html": [
       "<div>\n",
       "<style scoped>\n",
       "    .dataframe tbody tr th:only-of-type {\n",
       "        vertical-align: middle;\n",
       "    }\n",
       "\n",
       "    .dataframe tbody tr th {\n",
       "        vertical-align: top;\n",
       "    }\n",
       "\n",
       "    .dataframe thead th {\n",
       "        text-align: right;\n",
       "    }\n",
       "</style>\n",
       "<table border=\"1\" class=\"dataframe\">\n",
       "  <thead>\n",
       "    <tr style=\"text-align: right;\">\n",
       "      <th></th>\n",
       "      <th>age</th>\n",
       "      <th>sex</th>\n",
       "      <th>chest pain type</th>\n",
       "      <th>resting blood pressure</th>\n",
       "      <th>serum cholestoral in mg/dl</th>\n",
       "      <th>fasting blood sugar &gt; 120 mg/dl</th>\n",
       "      <th>resting electrocardiographic results</th>\n",
       "      <th>maximum heart rate achieved</th>\n",
       "      <th>exercise induced angina</th>\n",
       "      <th>oldpeak = ST depression induced by exercise relative to rest</th>\n",
       "      <th>the slope of the peak exercise ST segment</th>\n",
       "      <th>number of major vessels (0-3) colored by flourosopy</th>\n",
       "      <th>thal</th>\n",
       "    </tr>\n",
       "  </thead>\n",
       "  <tbody>\n",
       "    <tr>\n",
       "      <th>0</th>\n",
       "      <td>70.0</td>\n",
       "      <td>1.0</td>\n",
       "      <td>4.0</td>\n",
       "      <td>130.0</td>\n",
       "      <td>322.0</td>\n",
       "      <td>0.0</td>\n",
       "      <td>2.0</td>\n",
       "      <td>109.0</td>\n",
       "      <td>0.0</td>\n",
       "      <td>2.4</td>\n",
       "      <td>2.0</td>\n",
       "      <td>3.0</td>\n",
       "      <td>3.0</td>\n",
       "    </tr>\n",
       "    <tr>\n",
       "      <th>1</th>\n",
       "      <td>67.0</td>\n",
       "      <td>0.0</td>\n",
       "      <td>3.0</td>\n",
       "      <td>115.0</td>\n",
       "      <td>564.0</td>\n",
       "      <td>0.0</td>\n",
       "      <td>2.0</td>\n",
       "      <td>160.0</td>\n",
       "      <td>0.0</td>\n",
       "      <td>1.6</td>\n",
       "      <td>2.0</td>\n",
       "      <td>0.0</td>\n",
       "      <td>7.0</td>\n",
       "    </tr>\n",
       "    <tr>\n",
       "      <th>2</th>\n",
       "      <td>57.0</td>\n",
       "      <td>1.0</td>\n",
       "      <td>2.0</td>\n",
       "      <td>124.0</td>\n",
       "      <td>261.0</td>\n",
       "      <td>0.0</td>\n",
       "      <td>0.0</td>\n",
       "      <td>141.0</td>\n",
       "      <td>0.0</td>\n",
       "      <td>0.3</td>\n",
       "      <td>1.0</td>\n",
       "      <td>0.0</td>\n",
       "      <td>7.0</td>\n",
       "    </tr>\n",
       "    <tr>\n",
       "      <th>3</th>\n",
       "      <td>64.0</td>\n",
       "      <td>1.0</td>\n",
       "      <td>4.0</td>\n",
       "      <td>128.0</td>\n",
       "      <td>263.0</td>\n",
       "      <td>0.0</td>\n",
       "      <td>0.0</td>\n",
       "      <td>105.0</td>\n",
       "      <td>1.0</td>\n",
       "      <td>0.2</td>\n",
       "      <td>2.0</td>\n",
       "      <td>1.0</td>\n",
       "      <td>7.0</td>\n",
       "    </tr>\n",
       "    <tr>\n",
       "      <th>4</th>\n",
       "      <td>74.0</td>\n",
       "      <td>0.0</td>\n",
       "      <td>2.0</td>\n",
       "      <td>120.0</td>\n",
       "      <td>269.0</td>\n",
       "      <td>0.0</td>\n",
       "      <td>2.0</td>\n",
       "      <td>121.0</td>\n",
       "      <td>1.0</td>\n",
       "      <td>0.2</td>\n",
       "      <td>1.0</td>\n",
       "      <td>1.0</td>\n",
       "      <td>3.0</td>\n",
       "    </tr>\n",
       "    <tr>\n",
       "      <th>...</th>\n",
       "      <td>...</td>\n",
       "      <td>...</td>\n",
       "      <td>...</td>\n",
       "      <td>...</td>\n",
       "      <td>...</td>\n",
       "      <td>...</td>\n",
       "      <td>...</td>\n",
       "      <td>...</td>\n",
       "      <td>...</td>\n",
       "      <td>...</td>\n",
       "      <td>...</td>\n",
       "      <td>...</td>\n",
       "      <td>...</td>\n",
       "    </tr>\n",
       "    <tr>\n",
       "      <th>265</th>\n",
       "      <td>52.0</td>\n",
       "      <td>1.0</td>\n",
       "      <td>3.0</td>\n",
       "      <td>172.0</td>\n",
       "      <td>199.0</td>\n",
       "      <td>1.0</td>\n",
       "      <td>0.0</td>\n",
       "      <td>162.0</td>\n",
       "      <td>0.0</td>\n",
       "      <td>0.5</td>\n",
       "      <td>1.0</td>\n",
       "      <td>0.0</td>\n",
       "      <td>7.0</td>\n",
       "    </tr>\n",
       "    <tr>\n",
       "      <th>266</th>\n",
       "      <td>44.0</td>\n",
       "      <td>1.0</td>\n",
       "      <td>2.0</td>\n",
       "      <td>120.0</td>\n",
       "      <td>263.0</td>\n",
       "      <td>0.0</td>\n",
       "      <td>0.0</td>\n",
       "      <td>173.0</td>\n",
       "      <td>0.0</td>\n",
       "      <td>0.0</td>\n",
       "      <td>1.0</td>\n",
       "      <td>0.0</td>\n",
       "      <td>7.0</td>\n",
       "    </tr>\n",
       "    <tr>\n",
       "      <th>267</th>\n",
       "      <td>56.0</td>\n",
       "      <td>0.0</td>\n",
       "      <td>2.0</td>\n",
       "      <td>140.0</td>\n",
       "      <td>294.0</td>\n",
       "      <td>0.0</td>\n",
       "      <td>2.0</td>\n",
       "      <td>153.0</td>\n",
       "      <td>0.0</td>\n",
       "      <td>1.3</td>\n",
       "      <td>2.0</td>\n",
       "      <td>0.0</td>\n",
       "      <td>3.0</td>\n",
       "    </tr>\n",
       "    <tr>\n",
       "      <th>268</th>\n",
       "      <td>57.0</td>\n",
       "      <td>1.0</td>\n",
       "      <td>4.0</td>\n",
       "      <td>140.0</td>\n",
       "      <td>192.0</td>\n",
       "      <td>0.0</td>\n",
       "      <td>0.0</td>\n",
       "      <td>148.0</td>\n",
       "      <td>0.0</td>\n",
       "      <td>0.4</td>\n",
       "      <td>2.0</td>\n",
       "      <td>0.0</td>\n",
       "      <td>6.0</td>\n",
       "    </tr>\n",
       "    <tr>\n",
       "      <th>269</th>\n",
       "      <td>67.0</td>\n",
       "      <td>1.0</td>\n",
       "      <td>4.0</td>\n",
       "      <td>160.0</td>\n",
       "      <td>286.0</td>\n",
       "      <td>0.0</td>\n",
       "      <td>2.0</td>\n",
       "      <td>108.0</td>\n",
       "      <td>1.0</td>\n",
       "      <td>1.5</td>\n",
       "      <td>2.0</td>\n",
       "      <td>3.0</td>\n",
       "      <td>3.0</td>\n",
       "    </tr>\n",
       "  </tbody>\n",
       "</table>\n",
       "<p>270 rows × 13 columns</p>\n",
       "</div>"
      ],
      "text/plain": [
       "      age  sex chest pain type  resting blood pressure  \\\n",
       "0    70.0  1.0             4.0                   130.0   \n",
       "1    67.0  0.0             3.0                   115.0   \n",
       "2    57.0  1.0             2.0                   124.0   \n",
       "3    64.0  1.0             4.0                   128.0   \n",
       "4    74.0  0.0             2.0                   120.0   \n",
       "..    ...  ...             ...                     ...   \n",
       "265  52.0  1.0             3.0                   172.0   \n",
       "266  44.0  1.0             2.0                   120.0   \n",
       "267  56.0  0.0             2.0                   140.0   \n",
       "268  57.0  1.0             4.0                   140.0   \n",
       "269  67.0  1.0             4.0                   160.0   \n",
       "\n",
       "     serum cholestoral in mg/dl fasting blood sugar > 120 mg/dl  \\\n",
       "0                         322.0                             0.0   \n",
       "1                         564.0                             0.0   \n",
       "2                         261.0                             0.0   \n",
       "3                         263.0                             0.0   \n",
       "4                         269.0                             0.0   \n",
       "..                          ...                             ...   \n",
       "265                       199.0                             1.0   \n",
       "266                       263.0                             0.0   \n",
       "267                       294.0                             0.0   \n",
       "268                       192.0                             0.0   \n",
       "269                       286.0                             0.0   \n",
       "\n",
       "    resting electrocardiographic results  maximum heart rate achieved  \\\n",
       "0                                    2.0                        109.0   \n",
       "1                                    2.0                        160.0   \n",
       "2                                    0.0                        141.0   \n",
       "3                                    0.0                        105.0   \n",
       "4                                    2.0                        121.0   \n",
       "..                                   ...                          ...   \n",
       "265                                  0.0                        162.0   \n",
       "266                                  0.0                        173.0   \n",
       "267                                  2.0                        153.0   \n",
       "268                                  0.0                        148.0   \n",
       "269                                  2.0                        108.0   \n",
       "\n",
       "     exercise induced angina  \\\n",
       "0                        0.0   \n",
       "1                        0.0   \n",
       "2                        0.0   \n",
       "3                        1.0   \n",
       "4                        1.0   \n",
       "..                       ...   \n",
       "265                      0.0   \n",
       "266                      0.0   \n",
       "267                      0.0   \n",
       "268                      0.0   \n",
       "269                      1.0   \n",
       "\n",
       "     oldpeak = ST depression induced by exercise relative to rest  \\\n",
       "0                                                  2.4              \n",
       "1                                                  1.6              \n",
       "2                                                  0.3              \n",
       "3                                                  0.2              \n",
       "4                                                  0.2              \n",
       "..                                                 ...              \n",
       "265                                                0.5              \n",
       "266                                                0.0              \n",
       "267                                                1.3              \n",
       "268                                                0.4              \n",
       "269                                                1.5              \n",
       "\n",
       "     the slope of the peak exercise ST segment  \\\n",
       "0                                          2.0   \n",
       "1                                          2.0   \n",
       "2                                          1.0   \n",
       "3                                          2.0   \n",
       "4                                          1.0   \n",
       "..                                         ...   \n",
       "265                                        1.0   \n",
       "266                                        1.0   \n",
       "267                                        2.0   \n",
       "268                                        2.0   \n",
       "269                                        2.0   \n",
       "\n",
       "     number of major vessels (0-3) colored by flourosopy thal  \n",
       "0                                                  3.0    3.0  \n",
       "1                                                  0.0    7.0  \n",
       "2                                                  0.0    7.0  \n",
       "3                                                  1.0    7.0  \n",
       "4                                                  1.0    3.0  \n",
       "..                                                 ...    ...  \n",
       "265                                                0.0    7.0  \n",
       "266                                                0.0    7.0  \n",
       "267                                                0.0    3.0  \n",
       "268                                                0.0    6.0  \n",
       "269                                                3.0    3.0  \n",
       "\n",
       "[270 rows x 13 columns]"
      ]
     },
     "execution_count": 3,
     "metadata": {},
     "output_type": "execute_result"
    }
   ],
   "source": [
    "X"
   ]
  },
  {
   "cell_type": "code",
   "execution_count": 4,
   "metadata": {},
   "outputs": [],
   "source": [
    "from sklearn.model_selection import train_test_split\n",
    "\n",
    "X_train, X_test, y_train, y_test = train_test_split(\n",
    "    X, y, test_size=0.25, random_state=0\n",
    ")"
   ]
  },
  {
   "cell_type": "code",
   "execution_count": 19,
   "metadata": {},
   "outputs": [],
   "source": [
    "from scorepyo.preprocessing import AutoBinarizer\n",
    "\n",
    "\n",
    "binarizer = AutoBinarizer(max_number_binaries_by_features=3, keep_negative=True)\n",
    "binarizer.fit(X_train, y_train, categorical_features=categorical_columns, to_exclude_features=None)\n",
    "\n",
    "X_train_binarized = binarizer.transform_bis(X_train)\n",
    "X_test_binarized, _ = binarizer.transform(X_test)"
   ]
  },
  {
   "cell_type": "code",
   "execution_count": 6,
   "metadata": {},
   "outputs": [],
   "source": [
    "# binarizer.df_score_feature"
   ]
  },
  {
   "cell_type": "code",
   "execution_count": 7,
   "metadata": {},
   "outputs": [],
   "source": [
    "from scorepyo.models import EBMRiskScore, OptunaRiskScore\n",
    "\n",
    "ebm_model = EBMRiskScore()\n",
    "scorepyo_model = OptunaRiskScore(\n",
    "    # df_info=df_info[\"feature\"].reset_index()\n",
    ")\n",
    "\n",
    "scorepyo_model.fit(X_train_binarized, y_train)\n",
    "ebm_model.fit(X_train, y_train, categorical_features=categorical_columns)"
   ]
  },
  {
   "cell_type": "code",
   "execution_count": 8,
   "metadata": {},
   "outputs": [
    {
     "name": "stdout",
     "output_type": "stream",
     "text": [
      "======================\n",
      "| FEATURE-POINT CARD |\n",
      "======================\n",
      "| Feature                                                    | Description                                                | Point(s)   |       |\n",
      "|:-----------------------------------------------------------|:-----------------------------------------------------------|:-----------|:------|\n",
      "| number of major vessels (0-3) colored by flourosopy < 0.5  | number of major vessels (0-3) colored by flourosopy < 0.5  | -1         | ...   |\n",
      "| number of major vessels (0-3) colored by flourosopy >= 1.5 | number of major vessels (0-3) colored by flourosopy >= 1.5 | 1          | + ... |\n",
      "| chest pain type_4.0                                        | chest pain type_4.0                                        | 1          | + ... |\n",
      "| thal_7.0                                                   | thal_7.0                                                   | 1          | + ... |\n",
      "|                                                            |                                                            | SCORE=     | ...   |\n",
      "\n",
      "=======================================\n",
      "=======================================\n",
      "\n",
      "======================\n",
      "|     SCORE CARD     |\n",
      "======================\n",
      "| SCORE   | -1     | 0      | 1      | 2      | 3      |\n",
      "|:--------|:-------|:-------|:-------|:-------|:-------|\n",
      "| RISK    | 28.08% | 50.00% | 71.92% | 86.77% | 94.38% |\n"
     ]
    }
   ],
   "source": [
    "ebm_model.summary()"
   ]
  },
  {
   "cell_type": "code",
   "execution_count": 9,
   "metadata": {},
   "outputs": [
    {
     "data": {
      "image/png": "[encoded data removed]",
      "text/plain": [
       "<Figure size 700x700 with 1 Axes>"
      ]
     },
     "metadata": {},
     "output_type": "display_data"
    }
   ],
   "source": [
    "import matplotlib.pyplot as plt\n",
    "from sklearn.metrics import precision_recall_curve, average_precision_score, log_loss\n",
    "\n",
    "\n",
    "y_proba = ebm_model.predict_proba(X_test)[:, 1].reshape(-1, 1)\n",
    "\n",
    "precision, recall, thresholds = precision_recall_curve(y_test.astype(int), y_proba)\n",
    "fig, ax = plt.subplots(figsize=(7, 7))\n",
    "plt.plot(recall, precision)\n",
    "average_precision = np.round(average_precision_score(y_test.astype(int), y_proba), 3)\n",
    "logloss = np.round(log_loss(y_test.astype(int), y_proba), 3)\n",
    "title_PR_curve = f\"Average precision : \\n{average_precision} \\n Logloss : \\n{logloss}\"\n",
    "plt.title(title_PR_curve)\n",
    "plt.xlabel(\"Recall\")\n",
    "plt.ylabel(\"Precision\")\n",
    "plt.grid()\n",
    "plt.show()"
   ]
  },
  {
   "cell_type": "code",
   "execution_count": 10,
   "metadata": {},
   "outputs": [],
   "source": [
    "# # TODO : put support of the binary feature to favor large plateau\n",
    "# df_info['abs_contribution'] = df_info['EBM_log_odds_contribution'].abs()*df_info['density']\n",
    "# nb_max_features = 5\n",
    "# top_features = df_info.sort_values(by='abs_contribution', ascending=False).index[:nb_max_features]\n",
    "# # selected_binary_features = pd.concat([top_features,pd.DataFrame(df_info.loc['intercept',:]).T],axis=0)\n",
    "# top_features = top_features.append(pd.Index(['intercept']))\n",
    "# df_info_modified = df_info.copy()\n",
    "# df_info_modified['EBM_log_odds_contribution'] = np.where(df_info_modified.index.isin(top_features),df_info_modified['EBM_log_odds_contribution'] ,0)\n",
    "# df_info_modified"
   ]
  },
  {
   "cell_type": "code",
   "execution_count": 11,
   "metadata": {},
   "outputs": [],
   "source": [
    "\n",
    "# max_point_value = 2\n",
    "# max_value_multipliers = max_point_value/df_info_modified['EBM_log_odds_contribution'].fillna(0).abs().max()\n",
    "\n",
    "# min_value_multipliers = 0.5 if max_value_multipliers == 1 else 1\n",
    "# n_multipliers = 20\n",
    "# list_multipliers = np.linspace(min_value_multipliers, max_value_multipliers, n_multipliers)\n",
    "\n",
    "# w_original = df_info_modified['EBM_log_odds_contribution'].values\n"
   ]
  },
  {
   "cell_type": "code",
   "execution_count": 12,
   "metadata": {},
   "outputs": [],
   "source": [
    "# matrix_w_multiplied = w_original.reshape(-1,1)*list_multipliers.reshape(1,-1)\n",
    "# y_train_fasterrisk = np.where(y_train==1,1,-1)\n",
    "# # X_train_binarized_augmented = np.concatenate([X_train_binarized.values,np.ones((len(X_train_binarized),1))], axis=1)\n",
    "# best_log_loss = 1000\n",
    "# best_w = None\n",
    "# best_m = None\n",
    "# best_intercept = None\n",
    "# for j in range(n_multipliers):\n",
    "#     X_train_binarized_augmented = np.concatenate([X_train_binarized.values/list_multipliers[j],np.ones((len(X_train_binarized),1))], axis=1)\n",
    "#     w_multiplied = matrix_w_multiplied[:,j]\n",
    "#     w_multiplied = w_multiplied.reshape(-1,1)\n",
    "#     J = [j1 for j1,val in enumerate(w_multiplied) if np.ceil(val)!=np.floor(val)]\n",
    "#     # print(w_multiplied)\n",
    "#     w_multiplied_floor = np.floor(w_multiplied)\n",
    "#     w_multiplied_ceil = np.ceil(w_multiplied)\n",
    "#     gamma = np.repeat(w_multiplied_floor.T, repeats=len(X_train), axis=0)\n",
    "    \n",
    "#     Z = np.einsum('ij,i->ij',X_train_binarized_augmented,y_train_fasterrisk)\n",
    "#     gamma = gamma+(Z<=0)\n",
    "#     gamma = gamma.astype(float)\n",
    "#     xGamma_sum = np.einsum('ij,ij->i',X_train_binarized_augmented,gamma)\n",
    "#     denominator_part = np.einsum('i,i->i',y_train_fasterrisk, xGamma_sum)\n",
    "#     l = 1/(1+np.exp(denominator_part))\n",
    "\n",
    "#     while len(J) > 0 :\n",
    "#         U = dict()\n",
    "#         for j1 in J:\n",
    "#             w_j_up = w_multiplied.copy()\n",
    "#             w_j_up[j1,:] = np.ceil(w_multiplied[j1,:])\n",
    "#             lX = np.einsum('i,ij->ij',l,X_train_binarized_augmented)\n",
    "#             substract_up = (w_j_up-w_multiplied).astype(float)\n",
    "#             U_j_up = np.sum(np.einsum('ij,jk->ik',lX,substract_up)**2)\n",
    "\n",
    "#             w_j_down = w_multiplied.copy()\n",
    "#             w_j_down[j1,:] = np.floor(w_multiplied[j1,:])\n",
    "#             substract_down = (w_j_down-w_multiplied).astype(float)\n",
    "#             U_j_down = np.sum(np.einsum('ij,jk->ik',lX,substract_down)**2)\n",
    "#             U[j1] = {'up':U_j_up, 'down':U_j_down}\n",
    "\n",
    "#         j_up, U_up = min([(j1,U[j1]['up']) for j1 in J], key=lambda t:t[1])\n",
    "#         j_down, U_down = min([(j1,U[j1]['down']) for j1 in J], key=lambda t:t[1])\n",
    "#         if U_up <= U_down:\n",
    "#             J =[j1 for j1 in J if j1!=j_up]\n",
    "#             w_multiplied[j_up] = np.ceil(w_multiplied[j_up])\n",
    "#         else:\n",
    "#             J =[j1 for j1 in J if j1!=j_down]\n",
    "#             w_multiplied[j_down] = np.floor(w_multiplied[j_down])\n",
    "#         # break\n",
    "\n",
    "#     w_multiplied_features = w_multiplied[:-1]\n",
    "#     w_multiplied_intercept = w_multiplied[-1]\n",
    "#     # w_multiplied_features, w_multiplied_intercept\n",
    "#     XW = (np.einsum('ij,jk->ik',X_train_binarized_augmented.astype(float),w_multiplied.astype(float)))\n",
    "#     logloss = np.mean(1+np.exp(np.einsum('i,ik->i', -y_train_fasterrisk, XW)))\n",
    "#     if logloss < best_log_loss:\n",
    "#         best_log_loss = logloss\n",
    "#         best_intercept = w_multiplied_intercept\n",
    "#         best_w = w_multiplied_features\n",
    "#         best_m = list_multipliers[j]\n",
    "\n",
    "#     # l = \n",
    "#     # break"
   ]
  },
  {
   "cell_type": "code",
   "execution_count": 13,
   "metadata": {},
   "outputs": [],
   "source": [
    "# y_train_score = (np.einsum('ij,jk->i',X_train_binarized.values, best_w.astype(float))+best_intercept)/best_m\n",
    "# y_train_pred_prob = 1/(1+np.exp(-y_train_score.astype(float)))\n",
    "# y_train_pred_prob\n",
    "\n",
    "# import matplotlib.pyplot as plt\n",
    "# from sklearn.metrics import precision_recall_curve, average_precision_score, log_loss\n",
    "\n",
    "\n",
    "# y_proba = y_train_pred_prob.reshape(-1, 1)\n",
    "\n",
    "# precision, recall, thresholds = precision_recall_curve(y_train.astype(int), y_proba)\n",
    "# fig, ax = plt.subplots(figsize=(7, 7))\n",
    "# plt.plot(recall, precision)\n",
    "# average_precision = np.round(average_precision_score(y_train.astype(int), y_proba), 3)\n",
    "# logloss = np.round(log_loss(y_train.astype(int), y_proba), 3)\n",
    "# title_PR_curve = f\"Average precision : \\n{average_precision} \\n Logloss : \\n{logloss}\"\n",
    "# plt.title(title_PR_curve)\n",
    "# plt.xlabel(\"Recall\")\n",
    "# plt.ylabel(\"Precision\")\n",
    "# plt.grid()\n",
    "# plt.show()"
   ]
  },
  {
   "cell_type": "code",
   "execution_count": 15,
   "metadata": {},
   "outputs": [
    {
     "name": "stdout",
     "output_type": "stream",
     "text": [
      "Number of combinations: 302231454903657293676544\n"
     ]
    }
   ],
   "source": [
    "from scorepyo.models import OptunaRiskScore\n",
    "\n",
    "\n",
    "scorepyo_model = OptunaRiskScore(\n",
    "    nb_max_features=4,\n",
    "    min_point_value=-1,\n",
    "    max_point_value=2,\n",
    "    # df_info=df_info[\"feature\"].reset_index(),\n",
    "    optuna_optimize_params={\"n_trials\":100, \"timeout\":30}\n",
    ")\n",
    "\n",
    "# print('Number of combinations:',scorepyo_model.nb_max_features**(X.shape[1]*(scorepyo_model.max_point_value-scorepyo_model.min_point_value)))"
   ]
  },
  {
   "cell_type": "code",
   "execution_count": 16,
   "metadata": {},
   "outputs": [],
   "source": [
    "\n",
    "\n",
    "scorepyo_model.fit(X_train_binarized, y_train)"
   ]
  },
  {
   "cell_type": "code",
   "execution_count": 17,
   "metadata": {},
   "outputs": [
    {
     "name": "stdout",
     "output_type": "stream",
     "text": [
      "======================\n",
      "| FEATURE-POINT CARD |\n",
      "======================\n",
      "| Feature                              | Description                          | Point(s)   |       |\n",
      "|:-------------------------------------|:-------------------------------------|:-----------|:------|\n",
      "| age < 50.5                           | age < 50.5                           | -1         | ...   |\n",
      "| chest pain type_2.0                  | chest pain type_2.0                  | -1         | + ... |\n",
      "| maximum heart rate achieved >= 161.5 | maximum heart rate achieved >= 161.5 | -1         | + ... |\n",
      "| sex_1.0                              | sex_1.0                              | 1          | + ... |\n",
      "|                                      |                                      | SCORE=     | ...   |\n",
      "\n",
      "=======================================\n",
      "=======================================\n",
      "\n",
      "======================\n",
      "|     SCORE CARD     |\n",
      "======================\n",
      "| SCORE   | -3    | -2    | -1     | 0      | 1      |\n",
      "|:--------|:------|:------|:-------|:-------|:-------|\n",
      "| RISK    | 2.93% | 7.59% | 18.24% | 37.75% | 62.25% |\n"
     ]
    }
   ],
   "source": [
    "scorepyo_model.summary()"
   ]
  },
  {
   "cell_type": "code",
   "execution_count": 20,
   "metadata": {},
   "outputs": [
    {
     "data": {
      "image/png": "[encoded data removed]",
      "text/plain": [
       "<Figure size 700x700 with 1 Axes>"
      ]
     },
     "metadata": {},
     "output_type": "display_data"
    }
   ],
   "source": [
    "import matplotlib.pyplot as plt\n",
    "from sklearn.metrics import precision_recall_curve, average_precision_score, log_loss\n",
    "\n",
    "\n",
    "y_proba = scorepyo_model.predict_proba(X_test_binarized)[:, 1].reshape(-1, 1)\n",
    "\n",
    "precision, recall, thresholds = precision_recall_curve(y_test.astype(int), y_proba)\n",
    "fig, ax = plt.subplots(figsize=(7, 7))\n",
    "plt.plot(recall, precision)\n",
    "average_precision = np.round(average_precision_score(y_test.astype(int), y_proba), 3)\n",
    "logloss = np.round(log_loss(y_test.astype(int), y_proba), 3)\n",
    "title_PR_curve = f\"Average precision : \\n{average_precision} \\n Logloss : \\n{logloss}\"\n",
    "plt.title(title_PR_curve)\n",
    "plt.xlabel(\"Recall\")\n",
    "plt.ylabel(\"Precision\")\n",
    "plt.grid()\n",
    "plt.show()"
   ]
  },
  {
   "cell_type": "code",
   "execution_count": 21,
   "metadata": {},
   "outputs": [
    {
     "data": {
      "application/vnd.plotly.v1+json": {
       "config": {
        "plotlyServerURL": "https://plot.ly"
       },
       "data": [
        {
         "mode": "markers",
         "name": "Objective Value",
         "type": "scatter",
         "x": [
          0,
          1,
          2,
          3,
          4,
          5,
          6,
          7,
          8,
          9,
          10,
          11,
          12,
          13,
          14,
          15,
          16,
          17,
          18,
          19,
          20,
          21,
          22,
          23,
          24,
          25,
          26,
          27,
          28,
          29,
          30,
          31,
          32,
          33,
          34,
          35,
          36,
          37,
          38,
          39,
          40,
          41,
          42,
          43,
          44,
          45,
          46,
          47,
          48,
          49,
          50,
          51,
          52,
          53,
          54,
          55,
          56,
          57,
          58,
          59,
          60,
          61,
          62,
          63,
          64,
          65,
          66,
          67,
          68,
          69,
          70,
          71,
          72,
          73,
          74,
          75,
          76,
          77,
          78,
          79,
          80,
          81,
          82,
          83,
          84,
          85,
          86,
          87,
          88,
          89,
          90,
          91,
          92,
          93,
          94,
          95,
          96,
          97,
          98,
          99
         ],
         "y": [
          8.133663737386673,
          1.0052820896759587,
          3.461200524174672,
          8.886138855358471,
          6.584184076179561,
          2.138881802143328,
          2.5615743410130007,
          9.871287143562796,
          8.034654589396473,
          8.024753182833482,
          1.2274699519731602,
          1.0237648787924467,
          0.7092400475281158,
          0.612751135670097,
          3.329075467690867,
          5.930699393351001,
          0.9696192260744756,
          3.6550505490287137,
          0.7183769862949168,
          2.823513500211711,
          4.797059727296007,
          0.6522713713138132,
          1.4824176789279877,
          2.151588765534427,
          0.7755965727032149,
          1.9881118049322373,
          4.673308995401513,
          3.134609527019401,
          4.381514229648019,
          1.240397592134947,
          2.775077175279892,
          1.2410248755606048,
          0.8075763991538183,
          0.6460033315711952,
          1.1308372004189278,
          1.5768037958297125,
          3.137684458999432,
          2.595565330495923,
          0.7117276094965401,
          1.96160222914814,
          3.5010402395418927,
          0.9980665656295735,
          1.2356103018745328,
          0.9320497704321754,
          1.8037543778824465,
          1.0327030004635394,
          2.0458389251673093,
          3.5005864495913674,
          0.6886990340328368,
          0.6886990340328368,
          0.8138297073974772,
          0.7288732490517434,
          0.9373177074927166,
          2.4806092017543433,
          1.5750832229833593,
          0.554166784286546,
          2.6809557170261074,
          0.6519178004863013,
          1.0211015644072283,
          3.877215617100749,
          1.0046912234979102,
          1.043664683212858,
          1.484988759661823,
          0.8128804670938516,
          2.1011309551430872,
          0.7773385471530165,
          1.4590352977444208,
          2.4141678875681847,
          0.6451107642372363,
          1.2305852230712566,
          2.478366939308425,
          1.3405813167188658,
          1.0662607592911684,
          0.7940308769656282,
          1.9575615671380269,
          2.8495659296737523,
          1.3151699314791965,
          1.001774398928128,
          9.787128739436064,
          0.724870029505883,
          0.627944200864516,
          0.5807115559307774,
          1.1912479620685459,
          0.7172685418914979,
          0.5611068577048749,
          1.1374743036590849,
          0.89936815348312,
          0.8642932185294386,
          1.0223922971264543,
          0.703899786725448,
          0.9321769453435298,
          6.915849418870763,
          0.8274795860238676,
          0.9643929026480178,
          1.3055911533085163,
          1.2210470666512585,
          1.7570095434787794,
          1.9272990381816062,
          1.9687840143600883,
          6.054457896931622
         ]
        },
        {
         "name": "Best Value",
         "type": "scatter",
         "x": [
          0,
          1,
          2,
          3,
          4,
          5,
          6,
          7,
          8,
          9,
          10,
          11,
          12,
          13,
          14,
          15,
          16,
          17,
          18,
          19,
          20,
          21,
          22,
          23,
          24,
          25,
          26,
          27,
          28,
          29,
          30,
          31,
          32,
          33,
          34,
          35,
          36,
          37,
          38,
          39,
          40,
          41,
          42,
          43,
          44,
          45,
          46,
          47,
          48,
          49,
          50,
          51,
          52,
          53,
          54,
          55,
          56,
          57,
          58,
          59,
          60,
          61,
          62,
          63,
          64,
          65,
          66,
          67,
          68,
          69,
          70,
          71,
          72,
          73,
          74,
          75,
          76,
          77,
          78,
          79,
          80,
          81,
          82,
          83,
          84,
          85,
          86,
          87,
          88,
          89,
          90,
          91,
          92,
          93,
          94,
          95,
          96,
          97,
          98,
          99
         ],
         "y": [
          8.133663737386673,
          1.0052820896759587,
          1.0052820896759587,
          1.0052820896759587,
          1.0052820896759587,
          1.0052820896759587,
          1.0052820896759587,
          1.0052820896759587,
          1.0052820896759587,
          1.0052820896759587,
          1.0052820896759587,
          1.0052820896759587,
          0.7092400475281158,
          0.612751135670097,
          0.612751135670097,
          0.612751135670097,
          0.612751135670097,
          0.612751135670097,
          0.612751135670097,
          0.612751135670097,
          0.612751135670097,
          0.612751135670097,
          0.612751135670097,
          0.612751135670097,
          0.612751135670097,
          0.612751135670097,
          0.612751135670097,
          0.612751135670097,
          0.612751135670097,
          0.612751135670097,
          0.612751135670097,
          0.612751135670097,
          0.612751135670097,
          0.612751135670097,
          0.612751135670097,
          0.612751135670097,
          0.612751135670097,
          0.612751135670097,
          0.612751135670097,
          0.612751135670097,
          0.612751135670097,
          0.612751135670097,
          0.612751135670097,
          0.612751135670097,
          0.612751135670097,
          0.612751135670097,
          0.612751135670097,
          0.612751135670097,
          0.612751135670097,
          0.612751135670097,
          0.612751135670097,
          0.612751135670097,
          0.612751135670097,
          0.612751135670097,
          0.612751135670097,
          0.554166784286546,
          0.554166784286546,
          0.554166784286546,
          0.554166784286546,
          0.554166784286546,
          0.554166784286546,
          0.554166784286546,
          0.554166784286546,
          0.554166784286546,
          0.554166784286546,
          0.554166784286546,
          0.554166784286546,
          0.554166784286546,
          0.554166784286546,
          0.554166784286546,
          0.554166784286546,
          0.554166784286546,
          0.554166784286546,
          0.554166784286546,
          0.554166784286546,
          0.554166784286546,
          0.554166784286546,
          0.554166784286546,
          0.554166784286546,
          0.554166784286546,
          0.554166784286546,
          0.554166784286546,
          0.554166784286546,
          0.554166784286546,
          0.554166784286546,
          0.554166784286546,
          0.554166784286546,
          0.554166784286546,
          0.554166784286546,
          0.554166784286546,
          0.554166784286546,
          0.554166784286546,
          0.554166784286546,
          0.554166784286546,
          0.554166784286546,
          0.554166784286546,
          0.554166784286546,
          0.554166784286546,
          0.554166784286546,
          0.554166784286546
         ]
        }
       ],
       "layout": {
        "template": {
         "data": {
          "bar": [
           {
            "error_x": {
             "color": "#2a3f5f"
            },
            "error_y": {
             "color": "#2a3f5f"
            },
            "marker": {
             "line": {
              "color": "#E5ECF6",
              "width": 0.5
             },
             "pattern": {
              "fillmode": "overlay",
              "size": 10,
              "solidity": 0.2
             }
            },
            "type": "bar"
           }
          ],
          "barpolar": [
           {
            "marker": {
             "line": {
              "color": "#E5ECF6",
              "width": 0.5
             },
             "pattern": {
              "fillmode": "overlay",
              "size": 10,
              "solidity": 0.2
             }
            },
            "type": "barpolar"
           }
          ],
          "carpet": [
           {
            "aaxis": {
             "endlinecolor": "#2a3f5f",
             "gridcolor": "white",
             "linecolor": "white",
             "minorgridcolor": "white",
             "startlinecolor": "#2a3f5f"
            },
            "baxis": {
             "endlinecolor": "#2a3f5f",
             "gridcolor": "white",
             "linecolor": "white",
             "minorgridcolor": "white",
             "startlinecolor": "#2a3f5f"
            },
            "type": "carpet"
           }
          ],
          "choropleth": [
           {
            "colorbar": {
             "outlinewidth": 0,
             "ticks": ""
            },
            "type": "choropleth"
           }
          ],
          "contour": [
           {
            "colorbar": {
             "outlinewidth": 0,
             "ticks": ""
            },
            "colorscale": [
             [
              0,
              "#0d0887"
             ],
             [
              0.1111111111111111,
              "#46039f"
             ],
             [
              0.2222222222222222,
              "#7201a8"
             ],
             [
              0.3333333333333333,
              "#9c179e"
             ],
             [
              0.4444444444444444,
              "#bd3786"
             ],
             [
              0.5555555555555556,
              "#d8576b"
             ],
             [
              0.6666666666666666,
              "#ed7953"
             ],
             [
              0.7777777777777778,
              "#fb9f3a"
             ],
             [
              0.8888888888888888,
              "#fdca26"
             ],
             [
              1,
              "#f0f921"
             ]
            ],
            "type": "contour"
           }
          ],
          "contourcarpet": [
           {
            "colorbar": {
             "outlinewidth": 0,
             "ticks": ""
            },
            "type": "contourcarpet"
           }
          ],
          "heatmap": [
           {
            "colorbar": {
             "outlinewidth": 0,
             "ticks": ""
            },
            "colorscale": [
             [
              0,
              "#0d0887"
             ],
             [
              0.1111111111111111,
              "#46039f"
             ],
             [
              0.2222222222222222,
              "#7201a8"
             ],
             [
              0.3333333333333333,
              "#9c179e"
             ],
             [
              0.4444444444444444,
              "#bd3786"
             ],
             [
              0.5555555555555556,
              "#d8576b"
             ],
             [
              0.6666666666666666,
              "#ed7953"
             ],
             [
              0.7777777777777778,
              "#fb9f3a"
             ],
             [
              0.8888888888888888,
              "#fdca26"
             ],
             [
              1,
              "#f0f921"
             ]
            ],
            "type": "heatmap"
           }
          ],
          "heatmapgl": [
           {
            "colorbar": {
             "outlinewidth": 0,
             "ticks": ""
            },
            "colorscale": [
             [
              0,
              "#0d0887"
             ],
             [
              0.1111111111111111,
              "#46039f"
             ],
             [
              0.2222222222222222,
              "#7201a8"
             ],
             [
              0.3333333333333333,
              "#9c179e"
             ],
             [
              0.4444444444444444,
              "#bd3786"
             ],
             [
              0.5555555555555556,
              "#d8576b"
             ],
             [
              0.6666666666666666,
              "#ed7953"
             ],
             [
              0.7777777777777778,
              "#fb9f3a"
             ],
             [
              0.8888888888888888,
              "#fdca26"
             ],
             [
              1,
              "#f0f921"
             ]
            ],
            "type": "heatmapgl"
           }
          ],
          "histogram": [
           {
            "marker": {
             "pattern": {
              "fillmode": "overlay",
              "size": 10,
              "solidity": 0.2
             }
            },
            "type": "histogram"
           }
          ],
          "histogram2d": [
           {
            "colorbar": {
             "outlinewidth": 0,
             "ticks": ""
            },
            "colorscale": [
             [
              0,
              "#0d0887"
             ],
             [
              0.1111111111111111,
              "#46039f"
             ],
             [
              0.2222222222222222,
              "#7201a8"
             ],
             [
              0.3333333333333333,
              "#9c179e"
             ],
             [
              0.4444444444444444,
              "#bd3786"
             ],
             [
              0.5555555555555556,
              "#d8576b"
             ],
             [
              0.6666666666666666,
              "#ed7953"
             ],
             [
              0.7777777777777778,
              "#fb9f3a"
             ],
             [
              0.8888888888888888,
              "#fdca26"
             ],
             [
              1,
              "#f0f921"
             ]
            ],
            "type": "histogram2d"
           }
          ],
          "histogram2dcontour": [
           {
            "colorbar": {
             "outlinewidth": 0,
             "ticks": ""
            },
            "colorscale": [
             [
              0,
              "#0d0887"
             ],
             [
              0.1111111111111111,
              "#46039f"
             ],
             [
              0.2222222222222222,
              "#7201a8"
             ],
             [
              0.3333333333333333,
              "#9c179e"
             ],
             [
              0.4444444444444444,
              "#bd3786"
             ],
             [
              0.5555555555555556,
              "#d8576b"
             ],
             [
              0.6666666666666666,
              "#ed7953"
             ],
             [
              0.7777777777777778,
              "#fb9f3a"
             ],
             [
              0.8888888888888888,
              "#fdca26"
             ],
             [
              1,
              "#f0f921"
             ]
            ],
            "type": "histogram2dcontour"
           }
          ],
          "mesh3d": [
           {
            "colorbar": {
             "outlinewidth": 0,
             "ticks": ""
            },
            "type": "mesh3d"
           }
          ],
          "parcoords": [
           {
            "line": {
             "colorbar": {
              "outlinewidth": 0,
              "ticks": ""
             }
            },
            "type": "parcoords"
           }
          ],
          "pie": [
           {
            "automargin": true,
            "type": "pie"
           }
          ],
          "scatter": [
           {
            "fillpattern": {
             "fillmode": "overlay",
             "size": 10,
             "solidity": 0.2
            },
            "type": "scatter"
           }
          ],
          "scatter3d": [
           {
            "line": {
             "colorbar": {
              "outlinewidth": 0,
              "ticks": ""
             }
            },
            "marker": {
             "colorbar": {
              "outlinewidth": 0,
              "ticks": ""
             }
            },
            "type": "scatter3d"
           }
          ],
          "scattercarpet": [
           {
            "marker": {
             "colorbar": {
              "outlinewidth": 0,
              "ticks": ""
             }
            },
            "type": "scattercarpet"
           }
          ],
          "scattergeo": [
           {
            "marker": {
             "colorbar": {
              "outlinewidth": 0,
              "ticks": ""
             }
            },
            "type": "scattergeo"
           }
          ],
          "scattergl": [
           {
            "marker": {
             "colorbar": {
              "outlinewidth": 0,
              "ticks": ""
             }
            },
            "type": "scattergl"
           }
          ],
          "scattermapbox": [
           {
            "marker": {
             "colorbar": {
              "outlinewidth": 0,
              "ticks": ""
             }
            },
            "type": "scattermapbox"
           }
          ],
          "scatterpolar": [
           {
            "marker": {
             "colorbar": {
              "outlinewidth": 0,
              "ticks": ""
             }
            },
            "type": "scatterpolar"
           }
          ],
          "scatterpolargl": [
           {
            "marker": {
             "colorbar": {
              "outlinewidth": 0,
              "ticks": ""
             }
            },
            "type": "scatterpolargl"
           }
          ],
          "scatterternary": [
           {
            "marker": {
             "colorbar": {
              "outlinewidth": 0,
              "ticks": ""
             }
            },
            "type": "scatterternary"
           }
          ],
          "surface": [
           {
            "colorbar": {
             "outlinewidth": 0,
             "ticks": ""
            },
            "colorscale": [
             [
              0,
              "#0d0887"
             ],
             [
              0.1111111111111111,
              "#46039f"
             ],
             [
              0.2222222222222222,
              "#7201a8"
             ],
             [
              0.3333333333333333,
              "#9c179e"
             ],
             [
              0.4444444444444444,
              "#bd3786"
             ],
             [
              0.5555555555555556,
              "#d8576b"
             ],
             [
              0.6666666666666666,
              "#ed7953"
             ],
             [
              0.7777777777777778,
              "#fb9f3a"
             ],
             [
              0.8888888888888888,
              "#fdca26"
             ],
             [
              1,
              "#f0f921"
             ]
            ],
            "type": "surface"
           }
          ],
          "table": [
           {
            "cells": {
             "fill": {
              "color": "#EBF0F8"
             },
             "line": {
              "color": "white"
             }
            },
            "header": {
             "fill": {
              "color": "#C8D4E3"
             },
             "line": {
              "color": "white"
             }
            },
            "type": "table"
           }
          ]
         },
         "layout": {
          "annotationdefaults": {
           "arrowcolor": "#2a3f5f",
           "arrowhead": 0,
           "arrowwidth": 1
          },
          "autotypenumbers": "strict",
          "coloraxis": {
           "colorbar": {
            "outlinewidth": 0,
            "ticks": ""
           }
          },
          "colorscale": {
           "diverging": [
            [
             0,
             "#8e0152"
            ],
            [
             0.1,
             "#c51b7d"
            ],
            [
             0.2,
             "#de77ae"
            ],
            [
             0.3,
             "#f1b6da"
            ],
            [
             0.4,
             "#fde0ef"
            ],
            [
             0.5,
             "#f7f7f7"
            ],
            [
             0.6,
             "#e6f5d0"
            ],
            [
             0.7,
             "#b8e186"
            ],
            [
             0.8,
             "#7fbc41"
            ],
            [
             0.9,
             "#4d9221"
            ],
            [
             1,
             "#276419"
            ]
           ],
           "sequential": [
            [
             0,
             "#0d0887"
            ],
            [
             0.1111111111111111,
             "#46039f"
            ],
            [
             0.2222222222222222,
             "#7201a8"
            ],
            [
             0.3333333333333333,
             "#9c179e"
            ],
            [
             0.4444444444444444,
             "#bd3786"
            ],
            [
             0.5555555555555556,
             "#d8576b"
            ],
            [
             0.6666666666666666,
             "#ed7953"
            ],
            [
             0.7777777777777778,
             "#fb9f3a"
            ],
            [
             0.8888888888888888,
             "#fdca26"
            ],
            [
             1,
             "#f0f921"
            ]
           ],
           "sequentialminus": [
            [
             0,
             "#0d0887"
            ],
            [
             0.1111111111111111,
             "#46039f"
            ],
            [
             0.2222222222222222,
             "#7201a8"
            ],
            [
             0.3333333333333333,
             "#9c179e"
            ],
            [
             0.4444444444444444,
             "#bd3786"
            ],
            [
             0.5555555555555556,
             "#d8576b"
            ],
            [
             0.6666666666666666,
             "#ed7953"
            ],
            [
             0.7777777777777778,
             "#fb9f3a"
            ],
            [
             0.8888888888888888,
             "#fdca26"
            ],
            [
             1,
             "#f0f921"
            ]
           ]
          },
          "colorway": [
           "#636efa",
           "#EF553B",
           "#00cc96",
           "#ab63fa",
           "#FFA15A",
           "#19d3f3",
           "#FF6692",
           "#B6E880",
           "#FF97FF",
           "#FECB52"
          ],
          "font": {
           "color": "#2a3f5f"
          },
          "geo": {
           "bgcolor": "white",
           "lakecolor": "white",
           "landcolor": "#E5ECF6",
           "showlakes": true,
           "showland": true,
           "subunitcolor": "white"
          },
          "hoverlabel": {
           "align": "left"
          },
          "hovermode": "closest",
          "mapbox": {
           "style": "light"
          },
          "paper_bgcolor": "white",
          "plot_bgcolor": "#E5ECF6",
          "polar": {
           "angularaxis": {
            "gridcolor": "white",
            "linecolor": "white",
            "ticks": ""
           },
           "bgcolor": "#E5ECF6",
           "radialaxis": {
            "gridcolor": "white",
            "linecolor": "white",
            "ticks": ""
           }
          },
          "scene": {
           "xaxis": {
            "backgroundcolor": "#E5ECF6",
            "gridcolor": "white",
            "gridwidth": 2,
            "linecolor": "white",
            "showbackground": true,
            "ticks": "",
            "zerolinecolor": "white"
           },
           "yaxis": {
            "backgroundcolor": "#E5ECF6",
            "gridcolor": "white",
            "gridwidth": 2,
            "linecolor": "white",
            "showbackground": true,
            "ticks": "",
            "zerolinecolor": "white"
           },
           "zaxis": {
            "backgroundcolor": "#E5ECF6",
            "gridcolor": "white",
            "gridwidth": 2,
            "linecolor": "white",
            "showbackground": true,
            "ticks": "",
            "zerolinecolor": "white"
           }
          },
          "shapedefaults": {
           "line": {
            "color": "#2a3f5f"
           }
          },
          "ternary": {
           "aaxis": {
            "gridcolor": "white",
            "linecolor": "white",
            "ticks": ""
           },
           "baxis": {
            "gridcolor": "white",
            "linecolor": "white",
            "ticks": ""
           },
           "bgcolor": "#E5ECF6",
           "caxis": {
            "gridcolor": "white",
            "linecolor": "white",
            "ticks": ""
           }
          },
          "title": {
           "x": 0.05
          },
          "xaxis": {
           "automargin": true,
           "gridcolor": "white",
           "linecolor": "white",
           "ticks": "",
           "title": {
            "standoff": 15
           },
           "zerolinecolor": "white",
           "zerolinewidth": 2
          },
          "yaxis": {
           "automargin": true,
           "gridcolor": "white",
           "linecolor": "white",
           "ticks": "",
           "title": {
            "standoff": 15
           },
           "zerolinecolor": "white",
           "zerolinewidth": 2
          }
         }
        },
        "title": {
         "text": "Optimization History Plot"
        },
        "xaxis": {
         "title": {
          "text": "Trial"
         }
        },
        "yaxis": {
         "title": {
          "text": "Objective Value"
         }
        }
       }
      }
     },
     "metadata": {},
     "output_type": "display_data"
    }
   ],
   "source": [
    "from optuna.visualization import plot_optimization_history\n",
    "\n",
    "plot_optimization_history(scorepyo_model._study)"
   ]
  },
  {
   "cell_type": "code",
   "execution_count": 22,
   "metadata": {},
   "outputs": [],
   "source": [
    "from fasterrisk.fasterrisk import RiskScoreOptimizer, RiskScoreClassifier\n",
    "\n",
    "sparsity = 4\n",
    "parent_size = 10\n",
    "y_train_fasterrisk = np.where(y_train==0,-1,1)\n",
    "RiskScoreOptimizer_m = RiskScoreOptimizer(X = X_train_binarized.values, y = y_train_fasterrisk, lb=-1, ub=2,k = 4, parent_size = parent_size)"
   ]
  },
  {
   "cell_type": "code",
   "execution_count": 23,
   "metadata": {},
   "outputs": [],
   "source": [
    "RiskScoreOptimizer_m.optimize()"
   ]
  },
  {
   "cell_type": "code",
   "execution_count": 24,
   "metadata": {},
   "outputs": [
    {
     "name": "stdout",
     "output_type": "stream",
     "text": [
      "(202, 50)\n"
     ]
    }
   ],
   "source": [
    "multipliers, sparseDiversePool_beta0_integer, sparseDiversePool_betas_integer = RiskScoreOptimizer_m.get_models()"
   ]
  },
  {
   "cell_type": "code",
   "execution_count": 25,
   "metadata": {},
   "outputs": [],
   "source": [
    "model_index = 0 # first model\n",
    "multiplier = multipliers[model_index]\n",
    "intercept = sparseDiversePool_beta0_integer[model_index]\n",
    "coefficients = sparseDiversePool_betas_integer[model_index]"
   ]
  },
  {
   "cell_type": "code",
   "execution_count": 26,
   "metadata": {},
   "outputs": [],
   "source": [
    "RiskScoreClassifier_m = RiskScoreClassifier(multiplier, intercept, coefficients)"
   ]
  },
  {
   "cell_type": "code",
   "execution_count": 27,
   "metadata": {},
   "outputs": [],
   "source": [
    "y_test_pred_prob = RiskScoreClassifier_m.predict_prob(X_test_binarized)"
   ]
  },
  {
   "cell_type": "code",
   "execution_count": 32,
   "metadata": {},
   "outputs": [
    {
     "data": {
      "image/png": "[encoded data removed]",
      "text/plain": [
       "<Figure size 1000x800 with 1 Axes>"
      ]
     },
     "metadata": {},
     "output_type": "display_data"
    },
    {
     "data": {
      "image/png": "[encoded data removed]",
      "text/plain": [
       "<Figure size 1000x800 with 1 Axes>"
      ]
     },
     "metadata": {},
     "output_type": "display_data"
    },
    {
     "name": "stdout",
     "output_type": "stream",
     "text": [
      "The Risk Score is:\n",
      "1.                             the slope of the peak exercise ST segment < 1.5     -1 point(s) |   ...\n",
      "2.                   number of major vessels (0-3) colored by flourosopy < 0.5     -1 point(s) | + ...\n",
      "3.                                                         chest pain type_4.0      1 point(s) | + ...\n",
      "4.                                                                    thal_7.0      1 point(s) | + ...\n",
      "                                                                                         SCORE | =    \n",
      "SCORE |  -2.0  |  -1.0  |   0.0  |\n",
      "RISK  |   5.7% |  19.7% |  50.0% |\n",
      "SCORE |   1.0  |   2.0  |\n",
      "RISK  |  80.3% |  94.3% |\n"
     ]
    }
   ],
   "source": [
    "y_proba = RiskScoreClassifier_m.predict_prob(X_train_binarized.values)\n",
    "\n",
    "precision, recall, thresholds = precision_recall_curve(y_train, y_proba)\n",
    "fig, ax = plt.subplots(figsize=(10, 8))\n",
    "plt.plot(recall, precision)\n",
    "average_precision = np.round(average_precision_score(y_train.astype(int), y_proba), 3)\n",
    "logloss = np.round(log_loss(y_train.astype(int), y_proba), 3)\n",
    "title_PR_curve = f\"Average precision : \\n{average_precision} \\n Logloss : \\n{logloss}\"\n",
    "plt.title(title_PR_curve)\n",
    "plt.grid()\n",
    "plt.show()\n",
    "\n",
    "y_proba = RiskScoreClassifier_m.predict_prob(X_test_binarized.values)\n",
    "\n",
    "precision, recall, thresholds = precision_recall_curve(y_test, y_proba)\n",
    "fig, ax = plt.subplots(figsize=(10, 8))\n",
    "plt.plot(recall, precision)\n",
    "average_precision = np.round(average_precision_score(y_test.astype(int), y_proba), 3)\n",
    "logloss = np.round(log_loss(y_test.astype(int), y_proba), 3)\n",
    "title_PR_curve = f\"Average precision : \\n{average_precision} \\n Logloss : \\n{logloss}\"\n",
    "plt.title(title_PR_curve)\n",
    "plt.grid()\n",
    "plt.show()\n",
    "\n",
    "X_featureNames = list(X_train_binarized.columns[:])\n",
    "\n",
    "RiskScoreClassifier_m.reset_featureNames(X_featureNames)\n",
    "RiskScoreClassifier_m.print_model_card()"
   ]
  },
  {
   "cell_type": "code",
   "execution_count": 31,
   "metadata": {},
   "outputs": [
    {
     "data": {
      "image/png": "[encoded data removed]",
      "text/plain": [
       "<Figure size 700x700 with 1 Axes>"
      ]
     },
     "metadata": {},
     "output_type": "display_data"
    },
    {
     "data": {
      "image/png": "[encoded data removed]",
      "text/plain": [
       "<Figure size 700x700 with 1 Axes>"
      ]
     },
     "metadata": {},
     "output_type": "display_data"
    }
   ],
   "source": [
    "import matplotlib.pyplot as plt\n",
    "from sklearn.metrics import precision_recall_curve, average_precision_score, log_loss\n",
    "\n",
    "y_proba = ebm_model.predict_proba(X_train)[:, 1].reshape(-1, 1)\n",
    "\n",
    "precision, recall, thresholds = precision_recall_curve(y_train.astype(int), y_proba)\n",
    "fig, ax = plt.subplots(figsize=(7, 7))\n",
    "plt.plot(recall, precision)\n",
    "average_precision = np.round(average_precision_score(y_train.astype(int), y_proba), 3)\n",
    "logloss = np.round(log_loss(y_train.astype(int), y_proba), 3)\n",
    "title_PR_curve = f\"Average precision : \\n{average_precision} \\n Logloss : \\n{logloss}\"\n",
    "plt.title(title_PR_curve)\n",
    "plt.xlabel(\"Recall\")\n",
    "plt.ylabel(\"Precision\")\n",
    "plt.grid()\n",
    "plt.show()\n",
    "\n",
    "\n",
    "y_proba = ebm_model.predict_proba(X_test)[:, 1].reshape(-1, 1)\n",
    "\n",
    "precision, recall, thresholds = precision_recall_curve(y_test.astype(int), y_proba)\n",
    "fig, ax = plt.subplots(figsize=(7, 7))\n",
    "plt.plot(recall, precision)\n",
    "average_precision = np.round(average_precision_score(y_test.astype(int), y_proba), 3)\n",
    "logloss = np.round(log_loss(y_test.astype(int), y_proba), 3)\n",
    "title_PR_curve = f\"Average precision : \\n{average_precision} \\n Logloss : \\n{logloss}\"\n",
    "plt.title(title_PR_curve)\n",
    "plt.xlabel(\"Recall\")\n",
    "plt.ylabel(\"Precision\")\n",
    "plt.grid()\n",
    "plt.show()"
   ]
  }
 ],
 "metadata": {
  "kernelspec": {
   "display_name": "Python 3.9.15 ('env_scorepyo_without_setuppy')",
   "language": "python",
   "name": "python3"
  },
  "language_info": {
   "codemirror_mode": {
    "name": "ipython",
    "version": 3
   },
   "file_extension": ".py",
   "mimetype": "text/x-python",
   "name": "python",
   "nbconvert_exporter": "python",
   "pygments_lexer": "ipython3",
   "version": "3.9.15"
  },
  "orig_nbformat": 4,
  "vscode": {
   "interpreter": {
    "hash": "e746fec48abda6224573652c21b66cdde6d6035f1336b7c5e8e7f1b99ef46209"
   }
  }
 },
 "nbformat": 4,
 "nbformat_minor": 2
}
