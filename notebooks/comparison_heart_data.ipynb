{
 "cells": [
  {
   "cell_type": "code",
   "execution_count": 2,
   "metadata": {},
   "outputs": [],
   "source": [
    "%load_ext autoreload\n",
    "%autoreload 2"
   ]
  },
  {
   "cell_type": "code",
   "execution_count": 3,
   "metadata": {},
   "outputs": [],
   "source": [
    "import numpy as np\n",
    "import pandas as pd\n",
    "\n",
    "\n",
    "\n",
    "columns = [\"age\" ,      \n",
    "      \"sex\"    ,\n",
    "      \"chest pain type\"  ,       \n",
    "      \"resting blood pressure\" ,\n",
    "      \"serum cholestoral in mg/dl\",      \n",
    "      \"fasting blood sugar > 120 mg/dl\",       \n",
    "      \"resting electrocardiographic results\",  \n",
    "      \"maximum heart rate achieved\" , \n",
    "      \"exercise induced angina\"    ,\n",
    "      \"oldpeak = ST depression induced by exercise relative to rest\"  , \n",
    "      \"the slope of the peak exercise ST segment\"     ,\n",
    "      \"number of major vessels (0-3) colored by flourosopy\",        \n",
    "       \"thal\", \"target\"]\n",
    "data = pd.read_csv(\"http://archive.ics.uci.edu/ml/machine-learning-databases/statlog/heart/heart.dat\",header=None, sep=\" \")\n",
    "data.columns=columns\n",
    "\n",
    "categorical_columns = ['sex', 'chest pain type','fasting blood sugar > 120 mg/dl',\"resting electrocardiographic results\",\"thal\",\"exercise induced angina\"]\n",
    "\n",
    "for c in categorical_columns:\n",
    "      data[c] = data[c].astype('category')\n",
    "else:\n",
    "      data[c] = data[c].astype(float)\n",
    "\n",
    "data[\"target\"] = np.where(data[\"target\"]==2,1,0)\n",
    "\n",
    "features = [c for c in columns if c !='target']\n",
    "X = data[features]\n",
    "\n",
    "\n",
    "\n",
    "\n",
    "y = data['target']"
   ]
  },
  {
   "cell_type": "code",
   "execution_count": 4,
   "metadata": {},
   "outputs": [
    {
     "data": {
      "text/html": [
       "<div>\n",
       "<style scoped>\n",
       "    .dataframe tbody tr th:only-of-type {\n",
       "        vertical-align: middle;\n",
       "    }\n",
       "\n",
       "    .dataframe tbody tr th {\n",
       "        vertical-align: top;\n",
       "    }\n",
       "\n",
       "    .dataframe thead th {\n",
       "        text-align: right;\n",
       "    }\n",
       "</style>\n",
       "<table border=\"1\" class=\"dataframe\">\n",
       "  <thead>\n",
       "    <tr style=\"text-align: right;\">\n",
       "      <th></th>\n",
       "      <th>age</th>\n",
       "      <th>sex</th>\n",
       "      <th>chest pain type</th>\n",
       "      <th>resting blood pressure</th>\n",
       "      <th>serum cholestoral in mg/dl</th>\n",
       "      <th>fasting blood sugar &gt; 120 mg/dl</th>\n",
       "      <th>resting electrocardiographic results</th>\n",
       "      <th>maximum heart rate achieved</th>\n",
       "      <th>exercise induced angina</th>\n",
       "      <th>oldpeak = ST depression induced by exercise relative to rest</th>\n",
       "      <th>the slope of the peak exercise ST segment</th>\n",
       "      <th>number of major vessels (0-3) colored by flourosopy</th>\n",
       "      <th>thal</th>\n",
       "    </tr>\n",
       "  </thead>\n",
       "  <tbody>\n",
       "    <tr>\n",
       "      <th>0</th>\n",
       "      <td>70.0</td>\n",
       "      <td>1.0</td>\n",
       "      <td>4.0</td>\n",
       "      <td>130.0</td>\n",
       "      <td>322.0</td>\n",
       "      <td>0.0</td>\n",
       "      <td>2.0</td>\n",
       "      <td>109.0</td>\n",
       "      <td>0.0</td>\n",
       "      <td>2.4</td>\n",
       "      <td>2.0</td>\n",
       "      <td>3.0</td>\n",
       "      <td>3.0</td>\n",
       "    </tr>\n",
       "    <tr>\n",
       "      <th>1</th>\n",
       "      <td>67.0</td>\n",
       "      <td>0.0</td>\n",
       "      <td>3.0</td>\n",
       "      <td>115.0</td>\n",
       "      <td>564.0</td>\n",
       "      <td>0.0</td>\n",
       "      <td>2.0</td>\n",
       "      <td>160.0</td>\n",
       "      <td>0.0</td>\n",
       "      <td>1.6</td>\n",
       "      <td>2.0</td>\n",
       "      <td>0.0</td>\n",
       "      <td>7.0</td>\n",
       "    </tr>\n",
       "    <tr>\n",
       "      <th>2</th>\n",
       "      <td>57.0</td>\n",
       "      <td>1.0</td>\n",
       "      <td>2.0</td>\n",
       "      <td>124.0</td>\n",
       "      <td>261.0</td>\n",
       "      <td>0.0</td>\n",
       "      <td>0.0</td>\n",
       "      <td>141.0</td>\n",
       "      <td>0.0</td>\n",
       "      <td>0.3</td>\n",
       "      <td>1.0</td>\n",
       "      <td>0.0</td>\n",
       "      <td>7.0</td>\n",
       "    </tr>\n",
       "    <tr>\n",
       "      <th>3</th>\n",
       "      <td>64.0</td>\n",
       "      <td>1.0</td>\n",
       "      <td>4.0</td>\n",
       "      <td>128.0</td>\n",
       "      <td>263.0</td>\n",
       "      <td>0.0</td>\n",
       "      <td>0.0</td>\n",
       "      <td>105.0</td>\n",
       "      <td>1.0</td>\n",
       "      <td>0.2</td>\n",
       "      <td>2.0</td>\n",
       "      <td>1.0</td>\n",
       "      <td>7.0</td>\n",
       "    </tr>\n",
       "    <tr>\n",
       "      <th>4</th>\n",
       "      <td>74.0</td>\n",
       "      <td>0.0</td>\n",
       "      <td>2.0</td>\n",
       "      <td>120.0</td>\n",
       "      <td>269.0</td>\n",
       "      <td>0.0</td>\n",
       "      <td>2.0</td>\n",
       "      <td>121.0</td>\n",
       "      <td>1.0</td>\n",
       "      <td>0.2</td>\n",
       "      <td>1.0</td>\n",
       "      <td>1.0</td>\n",
       "      <td>3.0</td>\n",
       "    </tr>\n",
       "    <tr>\n",
       "      <th>...</th>\n",
       "      <td>...</td>\n",
       "      <td>...</td>\n",
       "      <td>...</td>\n",
       "      <td>...</td>\n",
       "      <td>...</td>\n",
       "      <td>...</td>\n",
       "      <td>...</td>\n",
       "      <td>...</td>\n",
       "      <td>...</td>\n",
       "      <td>...</td>\n",
       "      <td>...</td>\n",
       "      <td>...</td>\n",
       "      <td>...</td>\n",
       "    </tr>\n",
       "    <tr>\n",
       "      <th>265</th>\n",
       "      <td>52.0</td>\n",
       "      <td>1.0</td>\n",
       "      <td>3.0</td>\n",
       "      <td>172.0</td>\n",
       "      <td>199.0</td>\n",
       "      <td>1.0</td>\n",
       "      <td>0.0</td>\n",
       "      <td>162.0</td>\n",
       "      <td>0.0</td>\n",
       "      <td>0.5</td>\n",
       "      <td>1.0</td>\n",
       "      <td>0.0</td>\n",
       "      <td>7.0</td>\n",
       "    </tr>\n",
       "    <tr>\n",
       "      <th>266</th>\n",
       "      <td>44.0</td>\n",
       "      <td>1.0</td>\n",
       "      <td>2.0</td>\n",
       "      <td>120.0</td>\n",
       "      <td>263.0</td>\n",
       "      <td>0.0</td>\n",
       "      <td>0.0</td>\n",
       "      <td>173.0</td>\n",
       "      <td>0.0</td>\n",
       "      <td>0.0</td>\n",
       "      <td>1.0</td>\n",
       "      <td>0.0</td>\n",
       "      <td>7.0</td>\n",
       "    </tr>\n",
       "    <tr>\n",
       "      <th>267</th>\n",
       "      <td>56.0</td>\n",
       "      <td>0.0</td>\n",
       "      <td>2.0</td>\n",
       "      <td>140.0</td>\n",
       "      <td>294.0</td>\n",
       "      <td>0.0</td>\n",
       "      <td>2.0</td>\n",
       "      <td>153.0</td>\n",
       "      <td>0.0</td>\n",
       "      <td>1.3</td>\n",
       "      <td>2.0</td>\n",
       "      <td>0.0</td>\n",
       "      <td>3.0</td>\n",
       "    </tr>\n",
       "    <tr>\n",
       "      <th>268</th>\n",
       "      <td>57.0</td>\n",
       "      <td>1.0</td>\n",
       "      <td>4.0</td>\n",
       "      <td>140.0</td>\n",
       "      <td>192.0</td>\n",
       "      <td>0.0</td>\n",
       "      <td>0.0</td>\n",
       "      <td>148.0</td>\n",
       "      <td>0.0</td>\n",
       "      <td>0.4</td>\n",
       "      <td>2.0</td>\n",
       "      <td>0.0</td>\n",
       "      <td>6.0</td>\n",
       "    </tr>\n",
       "    <tr>\n",
       "      <th>269</th>\n",
       "      <td>67.0</td>\n",
       "      <td>1.0</td>\n",
       "      <td>4.0</td>\n",
       "      <td>160.0</td>\n",
       "      <td>286.0</td>\n",
       "      <td>0.0</td>\n",
       "      <td>2.0</td>\n",
       "      <td>108.0</td>\n",
       "      <td>1.0</td>\n",
       "      <td>1.5</td>\n",
       "      <td>2.0</td>\n",
       "      <td>3.0</td>\n",
       "      <td>3.0</td>\n",
       "    </tr>\n",
       "  </tbody>\n",
       "</table>\n",
       "<p>270 rows × 13 columns</p>\n",
       "</div>"
      ],
      "text/plain": [
       "      age  sex chest pain type  resting blood pressure  \\\n",
       "0    70.0  1.0             4.0                   130.0   \n",
       "1    67.0  0.0             3.0                   115.0   \n",
       "2    57.0  1.0             2.0                   124.0   \n",
       "3    64.0  1.0             4.0                   128.0   \n",
       "4    74.0  0.0             2.0                   120.0   \n",
       "..    ...  ...             ...                     ...   \n",
       "265  52.0  1.0             3.0                   172.0   \n",
       "266  44.0  1.0             2.0                   120.0   \n",
       "267  56.0  0.0             2.0                   140.0   \n",
       "268  57.0  1.0             4.0                   140.0   \n",
       "269  67.0  1.0             4.0                   160.0   \n",
       "\n",
       "     serum cholestoral in mg/dl fasting blood sugar > 120 mg/dl  \\\n",
       "0                         322.0                             0.0   \n",
       "1                         564.0                             0.0   \n",
       "2                         261.0                             0.0   \n",
       "3                         263.0                             0.0   \n",
       "4                         269.0                             0.0   \n",
       "..                          ...                             ...   \n",
       "265                       199.0                             1.0   \n",
       "266                       263.0                             0.0   \n",
       "267                       294.0                             0.0   \n",
       "268                       192.0                             0.0   \n",
       "269                       286.0                             0.0   \n",
       "\n",
       "    resting electrocardiographic results  maximum heart rate achieved  \\\n",
       "0                                    2.0                        109.0   \n",
       "1                                    2.0                        160.0   \n",
       "2                                    0.0                        141.0   \n",
       "3                                    0.0                        105.0   \n",
       "4                                    2.0                        121.0   \n",
       "..                                   ...                          ...   \n",
       "265                                  0.0                        162.0   \n",
       "266                                  0.0                        173.0   \n",
       "267                                  2.0                        153.0   \n",
       "268                                  0.0                        148.0   \n",
       "269                                  2.0                        108.0   \n",
       "\n",
       "     exercise induced angina  \\\n",
       "0                        0.0   \n",
       "1                        0.0   \n",
       "2                        0.0   \n",
       "3                        1.0   \n",
       "4                        1.0   \n",
       "..                       ...   \n",
       "265                      0.0   \n",
       "266                      0.0   \n",
       "267                      0.0   \n",
       "268                      0.0   \n",
       "269                      1.0   \n",
       "\n",
       "     oldpeak = ST depression induced by exercise relative to rest  \\\n",
       "0                                                  2.4              \n",
       "1                                                  1.6              \n",
       "2                                                  0.3              \n",
       "3                                                  0.2              \n",
       "4                                                  0.2              \n",
       "..                                                 ...              \n",
       "265                                                0.5              \n",
       "266                                                0.0              \n",
       "267                                                1.3              \n",
       "268                                                0.4              \n",
       "269                                                1.5              \n",
       "\n",
       "     the slope of the peak exercise ST segment  \\\n",
       "0                                          2.0   \n",
       "1                                          2.0   \n",
       "2                                          1.0   \n",
       "3                                          2.0   \n",
       "4                                          1.0   \n",
       "..                                         ...   \n",
       "265                                        1.0   \n",
       "266                                        1.0   \n",
       "267                                        2.0   \n",
       "268                                        2.0   \n",
       "269                                        2.0   \n",
       "\n",
       "     number of major vessels (0-3) colored by flourosopy thal  \n",
       "0                                                  3.0    3.0  \n",
       "1                                                  0.0    7.0  \n",
       "2                                                  0.0    7.0  \n",
       "3                                                  1.0    7.0  \n",
       "4                                                  1.0    3.0  \n",
       "..                                                 ...    ...  \n",
       "265                                                0.0    7.0  \n",
       "266                                                0.0    7.0  \n",
       "267                                                0.0    3.0  \n",
       "268                                                0.0    6.0  \n",
       "269                                                3.0    3.0  \n",
       "\n",
       "[270 rows x 13 columns]"
      ]
     },
     "execution_count": 4,
     "metadata": {},
     "output_type": "execute_result"
    }
   ],
   "source": [
    "X"
   ]
  },
  {
   "cell_type": "code",
   "execution_count": 5,
   "metadata": {},
   "outputs": [],
   "source": [
    "from sklearn.model_selection import train_test_split\n",
    "\n",
    "X_train, X_test, y_train, y_test = train_test_split(\n",
    "    X, y, test_size=0.25, random_state=0\n",
    ")"
   ]
  },
  {
   "cell_type": "code",
   "execution_count": 6,
   "metadata": {},
   "outputs": [],
   "source": [
    "from scorepyo.preprocessing import AutoBinarizer\n",
    "\n",
    "\n",
    "binarizer = AutoBinarizer(max_number_binaries_by_features=3, keep_negative=True)\n",
    "binarizer.fit(X_train, y_train, categorical_features=categorical_columns, to_exclude_features=None)\n",
    "\n",
    "X_train_binarized = binarizer.transform_bis(X_train)\n",
    "X_test_binarized, _ = binarizer.transform(X_test)"
   ]
  },
  {
   "cell_type": "code",
   "execution_count": 7,
   "metadata": {},
   "outputs": [],
   "source": [
    "# binarizer.df_score_feature"
   ]
  },
  {
   "cell_type": "code",
   "execution_count": 29,
   "metadata": {},
   "outputs": [
    {
     "name": "stdout",
     "output_type": "stream",
     "text": [
      "\t 1.7264597459655517\n",
      "\t 1.723312695597514\n",
      "\t 1.7206585283640297\n",
      "\t 1.673366603384031\n",
      "\t 1.6728818564457826\n",
      "\t 1.67267348214218\n",
      "\t 1.6526422378149142\n",
      "\t 1.6506757159834364\n",
      "\t 1.6278383893174981\n"
     ]
    }
   ],
   "source": [
    "from scorepyo.models import EBMRiskScore, OptunaRiskScore\n",
    "\n",
    "ebm_model = EBMRiskScore()\n",
    "# scorepyo_model = OptunaRiskScore(\n",
    "#     # df_info=df_info[\"feature\"].reset_index()\n",
    "# )\n",
    "\n",
    "# scorepyo_model.fit(X_train_binarized, y_train)\n",
    "ebm_model.fit(X_train, y_train, categorical_features=categorical_columns)"
   ]
  },
  {
   "cell_type": "markdown",
   "metadata": {},
   "source": [
    "The Risk Score is:\n",
    "1.                             the slope of the peak exercise ST segment < 1.5     -1 point(s) |   ...\n",
    "2.                   number of major vessels (0-3) colored by flourosopy < 0.5     -1 point(s) | + ...\n",
    "3.                                                         chest pain type_4.0      1 point(s) | + ...\n",
    "4.                                                                    thal_7.0      1 point(s) | + ...\n",
    "                                                                                         SCORE | =\n",
    "\n",
    "('number of major vessels (0-3) colored by flourosopy < 0.5', 'chest pain type_4.0', 'thal_7.0', 'the slope of the peak exercise ST segment < 1.5')"
   ]
  },
  {
   "cell_type": "code",
   "execution_count": 30,
   "metadata": {},
   "outputs": [
    {
     "name": "stdout",
     "output_type": "stream",
     "text": [
      "======================\n",
      "| FEATURE-POINT CARD |\n",
      "======================\n",
      "| Feature                                                   | Description                                               | Point(s)   |       |\n",
      "|:----------------------------------------------------------|:----------------------------------------------------------|:-----------|:------|\n",
      "| the slope of the peak exercise ST segment < 1.5           | the slope of the peak exercise ST segment < 1.5           | -1         | ...   |\n",
      "| number of major vessels (0-3) colored by flourosopy < 0.5 | number of major vessels (0-3) colored by flourosopy < 0.5 | -1         | + ... |\n",
      "| chest pain type_4.0                                       | chest pain type_4.0                                       | 1          | + ... |\n",
      "| thal_7.0                                                  | thal_7.0                                                  | 1          | + ... |\n",
      "|                                                           |                                                           | SCORE=     | ...   |\n",
      "\n",
      "=======================================\n",
      "=======================================\n",
      "\n",
      "======================\n",
      "|     SCORE CARD     |\n",
      "======================\n",
      "| SCORE   | -2     | -1     | 0      | 1      | 2      |\n",
      "|:--------|:-------|:-------|:-------|:-------|:-------|\n",
      "| RISK    | 15.66% | 30.11% | 50.00% | 69.89% | 84.34% |\n"
     ]
    }
   ],
   "source": [
    "ebm_model.summary()"
   ]
  },
  {
   "cell_type": "code",
   "execution_count": 32,
   "metadata": {},
   "outputs": [
    {
     "name": "stdout",
     "output_type": "stream",
     "text": [
      "126\n",
      "210\n",
      "330\n",
      "495\n",
      "715\n",
      "1001\n",
      "1365\n",
      "1820\n",
      "2380\n",
      "3060\n",
      "3876\n"
     ]
    }
   ],
   "source": [
    "import itertools\n",
    "\n",
    "def nb_solutions(nb_total_features, min_point_value, max_point_value, nb_selected_features):\n",
    "    range_ = max_point_value-min_point_value\n",
    "    if min_point_value<0:\n",
    "        range_-=1\n",
    "    return (nb_total_features*range_)**nb_selected_features\n",
    "\n",
    "for i in range(5,16):\n",
    "    print(len(list(itertools.combinations(range(4+i), 4))))"
   ]
  },
  {
   "cell_type": "code",
   "execution_count": 11,
   "metadata": {},
   "outputs": [
    {
     "data": {
      "image/png": "[encoded data removed]",
      "text/plain": [
       "<Figure size 700x700 with 1 Axes>"
      ]
     },
     "metadata": {},
     "output_type": "display_data"
    }
   ],
   "source": [
    "import matplotlib.pyplot as plt\n",
    "from sklearn.metrics import precision_recall_curve, average_precision_score, log_loss\n",
    "\n",
    "\n",
    "y_proba = ebm_model.predict_proba(X_test)[:, 1].reshape(-1, 1)\n",
    "\n",
    "precision, recall, thresholds = precision_recall_curve(y_test.astype(int), y_proba)\n",
    "fig, ax = plt.subplots(figsize=(7, 7))\n",
    "plt.plot(recall, precision)\n",
    "average_precision = np.round(average_precision_score(y_test.astype(int), y_proba), 3)\n",
    "logloss = np.round(log_loss(y_test.astype(int), y_proba), 3)\n",
    "title_PR_curve = f\"Average precision : \\n{average_precision} \\n Logloss : \\n{logloss}\"\n",
    "plt.title(title_PR_curve)\n",
    "plt.xlabel(\"Recall\")\n",
    "plt.ylabel(\"Precision\")\n",
    "plt.grid()\n",
    "plt.show()"
   ]
  },
  {
   "cell_type": "code",
   "execution_count": 12,
   "metadata": {},
   "outputs": [],
   "source": [
    "from scorepyo.models import OptunaRiskScore\n",
    "\n",
    "\n",
    "scorepyo_model = OptunaRiskScore(\n",
    "    nb_max_features=4,\n",
    "    min_point_value=-1,\n",
    "    max_point_value=2,\n",
    "    # df_info=df_info[\"feature\"].reset_index(),\n",
    "    optuna_optimize_params={\"n_trials\":100, \"timeout\":30}\n",
    ")\n",
    "\n",
    "# print('Number of combinations:',scorepyo_model.nb_max_features**(X.shape[1]*(scorepyo_model.max_point_value-scorepyo_model.min_point_value)))"
   ]
  },
  {
   "cell_type": "code",
   "execution_count": 13,
   "metadata": {},
   "outputs": [],
   "source": [
    "\n",
    "\n",
    "scorepyo_model.fit(X_train_binarized, y_train)"
   ]
  },
  {
   "cell_type": "code",
   "execution_count": 14,
   "metadata": {},
   "outputs": [
    {
     "name": "stdout",
     "output_type": "stream",
     "text": [
      "======================\n",
      "| FEATURE-POINT CARD |\n",
      "======================\n",
      "| Feature                                                              | Description                                                          | Point(s)   |       |\n",
      "|:---------------------------------------------------------------------|:---------------------------------------------------------------------|:-----------|:------|\n",
      "| number of major vessels (0-3) colored by flourosopy < 0.5            | number of major vessels (0-3) colored by flourosopy < 0.5            | -1         | ...   |\n",
      "| age < 50.5                                                           | age < 50.5                                                           | -1         | + ... |\n",
      "| chest pain type_4.0                                                  | chest pain type_4.0                                                  | 1          | + ... |\n",
      "| oldpeak = ST depression induced by exercise relative to rest >= 1.35 | oldpeak = ST depression induced by exercise relative to rest >= 1.35 | 2          | + ... |\n",
      "|                                                                      |                                                                      | SCORE=     | ...   |\n",
      "\n",
      "=======================================\n",
      "=======================================\n",
      "\n",
      "======================\n",
      "|     SCORE CARD     |\n",
      "======================\n",
      "| SCORE   | -2    | -1     | 0      | 1      | 2      | 3      |\n",
      "|:--------|:------|:-------|:-------|:-------|:-------|:-------|\n",
      "| RISK    | 7.59% | 18.24% | 37.75% | 62.25% | 81.76% | 92.41% |\n"
     ]
    }
   ],
   "source": [
    "scorepyo_model.summary()"
   ]
  },
  {
   "cell_type": "code",
   "execution_count": 15,
   "metadata": {},
   "outputs": [
    {
     "data": {
      "image/png": "[encoded data removed]",
      "text/plain": [
       "<Figure size 700x700 with 1 Axes>"
      ]
     },
     "metadata": {},
     "output_type": "display_data"
    }
   ],
   "source": [
    "import matplotlib.pyplot as plt\n",
    "from sklearn.metrics import precision_recall_curve, average_precision_score, log_loss\n",
    "\n",
    "\n",
    "y_proba = scorepyo_model.predict_proba(X_test_binarized)[:, 1].reshape(-1, 1)\n",
    "\n",
    "precision, recall, thresholds = precision_recall_curve(y_test.astype(int), y_proba)\n",
    "fig, ax = plt.subplots(figsize=(7, 7))\n",
    "plt.plot(recall, precision)\n",
    "average_precision = np.round(average_precision_score(y_test.astype(int), y_proba), 3)\n",
    "logloss = np.round(log_loss(y_test.astype(int), y_proba), 3)\n",
    "title_PR_curve = f\"Average precision : \\n{average_precision} \\n Logloss : \\n{logloss}\"\n",
    "plt.title(title_PR_curve)\n",
    "plt.xlabel(\"Recall\")\n",
    "plt.ylabel(\"Precision\")\n",
    "plt.grid()\n",
    "plt.show()"
   ]
  },
  {
   "cell_type": "code",
   "execution_count": 16,
   "metadata": {},
   "outputs": [
    {
     "data": {
      "application/vnd.plotly.v1+json": {
       "config": {
        "plotlyServerURL": "https://plot.ly"
       },
       "data": [
        {
         "mode": "markers",
         "name": "Objective Value",
         "type": "scatter",
         "x": [
          0,
          1,
          2,
          3,
          4,
          5,
          6,
          7,
          8,
          9,
          10,
          11,
          12,
          13,
          14,
          15,
          16,
          17,
          18,
          19,
          20,
          21,
          22,
          23,
          24,
          25,
          26,
          27,
          28,
          29,
          30,
          31,
          32,
          33,
          34,
          35,
          36,
          37,
          38,
          39,
          40,
          41,
          42,
          43,
          44,
          45,
          46,
          47,
          48,
          49,
          50,
          51,
          52,
          53,
          54,
          55,
          56,
          57,
          58,
          59,
          60,
          61,
          62,
          63,
          64,
          65,
          66,
          67,
          68,
          69,
          70,
          71,
          72,
          73,
          74,
          75,
          76,
          77,
          78,
          79,
          80,
          81,
          82,
          83,
          84,
          85,
          86,
          87,
          88,
          89,
          90,
          91,
          92,
          93,
          94,
          95,
          96,
          97,
          98,
          99
         ],
         "y": [
          0.9073589742219555,
          1.460622411461404,
          1.6924547616069103,
          0.9388393733097808,
          1.7648886954329832,
          1.6962310174122646,
          7.069310400874221,
          8.747524928916773,
          4.361486088808896,
          4.031193463255044,
          3.4037309603905754,
          2.313222490484806,
          1.3876991620273251,
          4.534945648981879,
          5.866345016569085,
          1.4976192760168874,
          0.8087962237342503,
          5.336710895675079,
          2.5024164340328654,
          3.046278347344465,
          8.30693118866701,
          0.696123943747096,
          0.7209588450927079,
          2.4690547366845634,
          3.2651266546759525,
          2.2881660038970426,
          0.748418143092456,
          10.01980198823285,
          0.922282241241299,
          2.438352079188557,
          4.549607329565136,
          0.8330734410759606,
          0.8143775784156784,
          1.8410069683468582,
          1.784295566828901,
          3.6263372295028864,
          1.319184147310826,
          1.520988374720034,
          0.7771929940280767,
          1.3704939821210238,
          1.568726553356878,
          0.6236985912387774,
          0.6858782569084079,
          2.61708339749922,
          1.8375427449326616,
          1.6488160410800319,
          1.6750338317054192,
          3.135979051387608,
          4.084819363867436,
          1.224626995580323,
          0.7324346620732477,
          0.7528431267383784,
          0.7119498755305037,
          0.7119498755305037,
          1.8776058483057987,
          0.6777451054712431,
          2.501050385302039,
          0.6777451054712431,
          0.8419550073780472,
          3.769621944358432,
          1.0392610211644258,
          0.6777451054712431,
          1.5848080378151164,
          0.5470954455412823,
          3.130285978750732,
          1.471262463119432,
          0.49698819136142897,
          1.1874711860620504,
          0.5300507877763125,
          0.6339543853135533,
          0.5300507877763125,
          0.9100376929858612,
          1.5429336423270457,
          0.49698819136142897,
          0.6273456299337605,
          2.0776302987823487,
          0.8782403824706162,
          1.0383166096502876,
          0.4641187068168544,
          0.8403728985843896,
          0.6149341257161303,
          0.6149341257161303,
          0.6128944588517986,
          0.6149341257161303,
          1.2042106659102458,
          1.0624191113505812,
          1.3922728869049665,
          1.7830965973255382,
          0.7969937765073307,
          3.046136559006517,
          0.7278870591392984,
          0.8559217904604188,
          1.2190962086977917,
          0.7139265435805383,
          1.0125742868270635,
          0.999710562641878,
          2.3452922123650026,
          1.051313607068356,
          0.7643818163178141,
          1.0160996844489059
         ]
        },
        {
         "name": "Best Value",
         "type": "scatter",
         "x": [
          0,
          1,
          2,
          3,
          4,
          5,
          6,
          7,
          8,
          9,
          10,
          11,
          12,
          13,
          14,
          15,
          16,
          17,
          18,
          19,
          20,
          21,
          22,
          23,
          24,
          25,
          26,
          27,
          28,
          29,
          30,
          31,
          32,
          33,
          34,
          35,
          36,
          37,
          38,
          39,
          40,
          41,
          42,
          43,
          44,
          45,
          46,
          47,
          48,
          49,
          50,
          51,
          52,
          53,
          54,
          55,
          56,
          57,
          58,
          59,
          60,
          61,
          62,
          63,
          64,
          65,
          66,
          67,
          68,
          69,
          70,
          71,
          72,
          73,
          74,
          75,
          76,
          77,
          78,
          79,
          80,
          81,
          82,
          83,
          84,
          85,
          86,
          87,
          88,
          89,
          90,
          91,
          92,
          93,
          94,
          95,
          96,
          97,
          98,
          99
         ],
         "y": [
          0.9073589742219555,
          0.9073589742219555,
          0.9073589742219555,
          0.9073589742219555,
          0.9073589742219555,
          0.9073589742219555,
          0.9073589742219555,
          0.9073589742219555,
          0.9073589742219555,
          0.9073589742219555,
          0.9073589742219555,
          0.9073589742219555,
          0.9073589742219555,
          0.9073589742219555,
          0.9073589742219555,
          0.9073589742219555,
          0.8087962237342503,
          0.8087962237342503,
          0.8087962237342503,
          0.8087962237342503,
          0.8087962237342503,
          0.696123943747096,
          0.696123943747096,
          0.696123943747096,
          0.696123943747096,
          0.696123943747096,
          0.696123943747096,
          0.696123943747096,
          0.696123943747096,
          0.696123943747096,
          0.696123943747096,
          0.696123943747096,
          0.696123943747096,
          0.696123943747096,
          0.696123943747096,
          0.696123943747096,
          0.696123943747096,
          0.696123943747096,
          0.696123943747096,
          0.696123943747096,
          0.696123943747096,
          0.6236985912387774,
          0.6236985912387774,
          0.6236985912387774,
          0.6236985912387774,
          0.6236985912387774,
          0.6236985912387774,
          0.6236985912387774,
          0.6236985912387774,
          0.6236985912387774,
          0.6236985912387774,
          0.6236985912387774,
          0.6236985912387774,
          0.6236985912387774,
          0.6236985912387774,
          0.6236985912387774,
          0.6236985912387774,
          0.6236985912387774,
          0.6236985912387774,
          0.6236985912387774,
          0.6236985912387774,
          0.6236985912387774,
          0.6236985912387774,
          0.5470954455412823,
          0.5470954455412823,
          0.5470954455412823,
          0.49698819136142897,
          0.49698819136142897,
          0.49698819136142897,
          0.49698819136142897,
          0.49698819136142897,
          0.49698819136142897,
          0.49698819136142897,
          0.49698819136142897,
          0.49698819136142897,
          0.49698819136142897,
          0.49698819136142897,
          0.49698819136142897,
          0.4641187068168544,
          0.4641187068168544,
          0.4641187068168544,
          0.4641187068168544,
          0.4641187068168544,
          0.4641187068168544,
          0.4641187068168544,
          0.4641187068168544,
          0.4641187068168544,
          0.4641187068168544,
          0.4641187068168544,
          0.4641187068168544,
          0.4641187068168544,
          0.4641187068168544,
          0.4641187068168544,
          0.4641187068168544,
          0.4641187068168544,
          0.4641187068168544,
          0.4641187068168544,
          0.4641187068168544,
          0.4641187068168544,
          0.4641187068168544
         ]
        }
       ],
       "layout": {
        "template": {
         "data": {
          "bar": [
           {
            "error_x": {
             "color": "#2a3f5f"
            },
            "error_y": {
             "color": "#2a3f5f"
            },
            "marker": {
             "line": {
              "color": "#E5ECF6",
              "width": 0.5
             },
             "pattern": {
              "fillmode": "overlay",
              "size": 10,
              "solidity": 0.2
             }
            },
            "type": "bar"
           }
          ],
          "barpolar": [
           {
            "marker": {
             "line": {
              "color": "#E5ECF6",
              "width": 0.5
             },
             "pattern": {
              "fillmode": "overlay",
              "size": 10,
              "solidity": 0.2
             }
            },
            "type": "barpolar"
           }
          ],
          "carpet": [
           {
            "aaxis": {
             "endlinecolor": "#2a3f5f",
             "gridcolor": "white",
             "linecolor": "white",
             "minorgridcolor": "white",
             "startlinecolor": "#2a3f5f"
            },
            "baxis": {
             "endlinecolor": "#2a3f5f",
             "gridcolor": "white",
             "linecolor": "white",
             "minorgridcolor": "white",
             "startlinecolor": "#2a3f5f"
            },
            "type": "carpet"
           }
          ],
          "choropleth": [
           {
            "colorbar": {
             "outlinewidth": 0,
             "ticks": ""
            },
            "type": "choropleth"
           }
          ],
          "contour": [
           {
            "colorbar": {
             "outlinewidth": 0,
             "ticks": ""
            },
            "colorscale": [
             [
              0,
              "#0d0887"
             ],
             [
              0.1111111111111111,
              "#46039f"
             ],
             [
              0.2222222222222222,
              "#7201a8"
             ],
             [
              0.3333333333333333,
              "#9c179e"
             ],
             [
              0.4444444444444444,
              "#bd3786"
             ],
             [
              0.5555555555555556,
              "#d8576b"
             ],
             [
              0.6666666666666666,
              "#ed7953"
             ],
             [
              0.7777777777777778,
              "#fb9f3a"
             ],
             [
              0.8888888888888888,
              "#fdca26"
             ],
             [
              1,
              "#f0f921"
             ]
            ],
            "type": "contour"
           }
          ],
          "contourcarpet": [
           {
            "colorbar": {
             "outlinewidth": 0,
             "ticks": ""
            },
            "type": "contourcarpet"
           }
          ],
          "heatmap": [
           {
            "colorbar": {
             "outlinewidth": 0,
             "ticks": ""
            },
            "colorscale": [
             [
              0,
              "#0d0887"
             ],
             [
              0.1111111111111111,
              "#46039f"
             ],
             [
              0.2222222222222222,
              "#7201a8"
             ],
             [
              0.3333333333333333,
              "#9c179e"
             ],
             [
              0.4444444444444444,
              "#bd3786"
             ],
             [
              0.5555555555555556,
              "#d8576b"
             ],
             [
              0.6666666666666666,
              "#ed7953"
             ],
             [
              0.7777777777777778,
              "#fb9f3a"
             ],
             [
              0.8888888888888888,
              "#fdca26"
             ],
             [
              1,
              "#f0f921"
             ]
            ],
            "type": "heatmap"
           }
          ],
          "heatmapgl": [
           {
            "colorbar": {
             "outlinewidth": 0,
             "ticks": ""
            },
            "colorscale": [
             [
              0,
              "#0d0887"
             ],
             [
              0.1111111111111111,
              "#46039f"
             ],
             [
              0.2222222222222222,
              "#7201a8"
             ],
             [
              0.3333333333333333,
              "#9c179e"
             ],
             [
              0.4444444444444444,
              "#bd3786"
             ],
             [
              0.5555555555555556,
              "#d8576b"
             ],
             [
              0.6666666666666666,
              "#ed7953"
             ],
             [
              0.7777777777777778,
              "#fb9f3a"
             ],
             [
              0.8888888888888888,
              "#fdca26"
             ],
             [
              1,
              "#f0f921"
             ]
            ],
            "type": "heatmapgl"
           }
          ],
          "histogram": [
           {
            "marker": {
             "pattern": {
              "fillmode": "overlay",
              "size": 10,
              "solidity": 0.2
             }
            },
            "type": "histogram"
           }
          ],
          "histogram2d": [
           {
            "colorbar": {
             "outlinewidth": 0,
             "ticks": ""
            },
            "colorscale": [
             [
              0,
              "#0d0887"
             ],
             [
              0.1111111111111111,
              "#46039f"
             ],
             [
              0.2222222222222222,
              "#7201a8"
             ],
             [
              0.3333333333333333,
              "#9c179e"
             ],
             [
              0.4444444444444444,
              "#bd3786"
             ],
             [
              0.5555555555555556,
              "#d8576b"
             ],
             [
              0.6666666666666666,
              "#ed7953"
             ],
             [
              0.7777777777777778,
              "#fb9f3a"
             ],
             [
              0.8888888888888888,
              "#fdca26"
             ],
             [
              1,
              "#f0f921"
             ]
            ],
            "type": "histogram2d"
           }
          ],
          "histogram2dcontour": [
           {
            "colorbar": {
             "outlinewidth": 0,
             "ticks": ""
            },
            "colorscale": [
             [
              0,
              "#0d0887"
             ],
             [
              0.1111111111111111,
              "#46039f"
             ],
             [
              0.2222222222222222,
              "#7201a8"
             ],
             [
              0.3333333333333333,
              "#9c179e"
             ],
             [
              0.4444444444444444,
              "#bd3786"
             ],
             [
              0.5555555555555556,
              "#d8576b"
             ],
             [
              0.6666666666666666,
              "#ed7953"
             ],
             [
              0.7777777777777778,
              "#fb9f3a"
             ],
             [
              0.8888888888888888,
              "#fdca26"
             ],
             [
              1,
              "#f0f921"
             ]
            ],
            "type": "histogram2dcontour"
           }
          ],
          "mesh3d": [
           {
            "colorbar": {
             "outlinewidth": 0,
             "ticks": ""
            },
            "type": "mesh3d"
           }
          ],
          "parcoords": [
           {
            "line": {
             "colorbar": {
              "outlinewidth": 0,
              "ticks": ""
             }
            },
            "type": "parcoords"
           }
          ],
          "pie": [
           {
            "automargin": true,
            "type": "pie"
           }
          ],
          "scatter": [
           {
            "fillpattern": {
             "fillmode": "overlay",
             "size": 10,
             "solidity": 0.2
            },
            "type": "scatter"
           }
          ],
          "scatter3d": [
           {
            "line": {
             "colorbar": {
              "outlinewidth": 0,
              "ticks": ""
             }
            },
            "marker": {
             "colorbar": {
              "outlinewidth": 0,
              "ticks": ""
             }
            },
            "type": "scatter3d"
           }
          ],
          "scattercarpet": [
           {
            "marker": {
             "colorbar": {
              "outlinewidth": 0,
              "ticks": ""
             }
            },
            "type": "scattercarpet"
           }
          ],
          "scattergeo": [
           {
            "marker": {
             "colorbar": {
              "outlinewidth": 0,
              "ticks": ""
             }
            },
            "type": "scattergeo"
           }
          ],
          "scattergl": [
           {
            "marker": {
             "colorbar": {
              "outlinewidth": 0,
              "ticks": ""
             }
            },
            "type": "scattergl"
           }
          ],
          "scattermapbox": [
           {
            "marker": {
             "colorbar": {
              "outlinewidth": 0,
              "ticks": ""
             }
            },
            "type": "scattermapbox"
           }
          ],
          "scatterpolar": [
           {
            "marker": {
             "colorbar": {
              "outlinewidth": 0,
              "ticks": ""
             }
            },
            "type": "scatterpolar"
           }
          ],
          "scatterpolargl": [
           {
            "marker": {
             "colorbar": {
              "outlinewidth": 0,
              "ticks": ""
             }
            },
            "type": "scatterpolargl"
           }
          ],
          "scatterternary": [
           {
            "marker": {
             "colorbar": {
              "outlinewidth": 0,
              "ticks": ""
             }
            },
            "type": "scatterternary"
           }
          ],
          "surface": [
           {
            "colorbar": {
             "outlinewidth": 0,
             "ticks": ""
            },
            "colorscale": [
             [
              0,
              "#0d0887"
             ],
             [
              0.1111111111111111,
              "#46039f"
             ],
             [
              0.2222222222222222,
              "#7201a8"
             ],
             [
              0.3333333333333333,
              "#9c179e"
             ],
             [
              0.4444444444444444,
              "#bd3786"
             ],
             [
              0.5555555555555556,
              "#d8576b"
             ],
             [
              0.6666666666666666,
              "#ed7953"
             ],
             [
              0.7777777777777778,
              "#fb9f3a"
             ],
             [
              0.8888888888888888,
              "#fdca26"
             ],
             [
              1,
              "#f0f921"
             ]
            ],
            "type": "surface"
           }
          ],
          "table": [
           {
            "cells": {
             "fill": {
              "color": "#EBF0F8"
             },
             "line": {
              "color": "white"
             }
            },
            "header": {
             "fill": {
              "color": "#C8D4E3"
             },
             "line": {
              "color": "white"
             }
            },
            "type": "table"
           }
          ]
         },
         "layout": {
          "annotationdefaults": {
           "arrowcolor": "#2a3f5f",
           "arrowhead": 0,
           "arrowwidth": 1
          },
          "autotypenumbers": "strict",
          "coloraxis": {
           "colorbar": {
            "outlinewidth": 0,
            "ticks": ""
           }
          },
          "colorscale": {
           "diverging": [
            [
             0,
             "#8e0152"
            ],
            [
             0.1,
             "#c51b7d"
            ],
            [
             0.2,
             "#de77ae"
            ],
            [
             0.3,
             "#f1b6da"
            ],
            [
             0.4,
             "#fde0ef"
            ],
            [
             0.5,
             "#f7f7f7"
            ],
            [
             0.6,
             "#e6f5d0"
            ],
            [
             0.7,
             "#b8e186"
            ],
            [
             0.8,
             "#7fbc41"
            ],
            [
             0.9,
             "#4d9221"
            ],
            [
             1,
             "#276419"
            ]
           ],
           "sequential": [
            [
             0,
             "#0d0887"
            ],
            [
             0.1111111111111111,
             "#46039f"
            ],
            [
             0.2222222222222222,
             "#7201a8"
            ],
            [
             0.3333333333333333,
             "#9c179e"
            ],
            [
             0.4444444444444444,
             "#bd3786"
            ],
            [
             0.5555555555555556,
             "#d8576b"
            ],
            [
             0.6666666666666666,
             "#ed7953"
            ],
            [
             0.7777777777777778,
             "#fb9f3a"
            ],
            [
             0.8888888888888888,
             "#fdca26"
            ],
            [
             1,
             "#f0f921"
            ]
           ],
           "sequentialminus": [
            [
             0,
             "#0d0887"
            ],
            [
             0.1111111111111111,
             "#46039f"
            ],
            [
             0.2222222222222222,
             "#7201a8"
            ],
            [
             0.3333333333333333,
             "#9c179e"
            ],
            [
             0.4444444444444444,
             "#bd3786"
            ],
            [
             0.5555555555555556,
             "#d8576b"
            ],
            [
             0.6666666666666666,
             "#ed7953"
            ],
            [
             0.7777777777777778,
             "#fb9f3a"
            ],
            [
             0.8888888888888888,
             "#fdca26"
            ],
            [
             1,
             "#f0f921"
            ]
           ]
          },
          "colorway": [
           "#636efa",
           "#EF553B",
           "#00cc96",
           "#ab63fa",
           "#FFA15A",
           "#19d3f3",
           "#FF6692",
           "#B6E880",
           "#FF97FF",
           "#FECB52"
          ],
          "font": {
           "color": "#2a3f5f"
          },
          "geo": {
           "bgcolor": "white",
           "lakecolor": "white",
           "landcolor": "#E5ECF6",
           "showlakes": true,
           "showland": true,
           "subunitcolor": "white"
          },
          "hoverlabel": {
           "align": "left"
          },
          "hovermode": "closest",
          "mapbox": {
           "style": "light"
          },
          "paper_bgcolor": "white",
          "plot_bgcolor": "#E5ECF6",
          "polar": {
           "angularaxis": {
            "gridcolor": "white",
            "linecolor": "white",
            "ticks": ""
           },
           "bgcolor": "#E5ECF6",
           "radialaxis": {
            "gridcolor": "white",
            "linecolor": "white",
            "ticks": ""
           }
          },
          "scene": {
           "xaxis": {
            "backgroundcolor": "#E5ECF6",
            "gridcolor": "white",
            "gridwidth": 2,
            "linecolor": "white",
            "showbackground": true,
            "ticks": "",
            "zerolinecolor": "white"
           },
           "yaxis": {
            "backgroundcolor": "#E5ECF6",
            "gridcolor": "white",
            "gridwidth": 2,
            "linecolor": "white",
            "showbackground": true,
            "ticks": "",
            "zerolinecolor": "white"
           },
           "zaxis": {
            "backgroundcolor": "#E5ECF6",
            "gridcolor": "white",
            "gridwidth": 2,
            "linecolor": "white",
            "showbackground": true,
            "ticks": "",
            "zerolinecolor": "white"
           }
          },
          "shapedefaults": {
           "line": {
            "color": "#2a3f5f"
           }
          },
          "ternary": {
           "aaxis": {
            "gridcolor": "white",
            "linecolor": "white",
            "ticks": ""
           },
           "baxis": {
            "gridcolor": "white",
            "linecolor": "white",
            "ticks": ""
           },
           "bgcolor": "#E5ECF6",
           "caxis": {
            "gridcolor": "white",
            "linecolor": "white",
            "ticks": ""
           }
          },
          "title": {
           "x": 0.05
          },
          "xaxis": {
           "automargin": true,
           "gridcolor": "white",
           "linecolor": "white",
           "ticks": "",
           "title": {
            "standoff": 15
           },
           "zerolinecolor": "white",
           "zerolinewidth": 2
          },
          "yaxis": {
           "automargin": true,
           "gridcolor": "white",
           "linecolor": "white",
           "ticks": "",
           "title": {
            "standoff": 15
           },
           "zerolinecolor": "white",
           "zerolinewidth": 2
          }
         }
        },
        "title": {
         "text": "Optimization History Plot"
        },
        "xaxis": {
         "title": {
          "text": "Trial"
         }
        },
        "yaxis": {
         "title": {
          "text": "Objective Value"
         }
        }
       }
      }
     },
     "metadata": {},
     "output_type": "display_data"
    }
   ],
   "source": [
    "from optuna.visualization import plot_optimization_history\n",
    "\n",
    "plot_optimization_history(scorepyo_model._study)"
   ]
  },
  {
   "cell_type": "code",
   "execution_count": 17,
   "metadata": {},
   "outputs": [],
   "source": [
    "from fasterrisk.fasterrisk import RiskScoreOptimizer, RiskScoreClassifier\n",
    "\n",
    "sparsity = 4\n",
    "parent_size = 10\n",
    "y_train_fasterrisk = np.where(y_train==0,-1,1)\n",
    "RiskScoreOptimizer_m = RiskScoreOptimizer(X = X_train_binarized.values, y = y_train_fasterrisk, lb=-1, ub=2,k = 4, parent_size = parent_size)"
   ]
  },
  {
   "cell_type": "code",
   "execution_count": 18,
   "metadata": {},
   "outputs": [],
   "source": [
    "RiskScoreOptimizer_m.optimize()"
   ]
  },
  {
   "cell_type": "code",
   "execution_count": 19,
   "metadata": {},
   "outputs": [
    {
     "name": "stdout",
     "output_type": "stream",
     "text": [
      "(202, 50)\n"
     ]
    }
   ],
   "source": [
    "multipliers, sparseDiversePool_beta0_integer, sparseDiversePool_betas_integer = RiskScoreOptimizer_m.get_models()"
   ]
  },
  {
   "cell_type": "code",
   "execution_count": 20,
   "metadata": {},
   "outputs": [],
   "source": [
    "model_index = 0 # first model\n",
    "multiplier = multipliers[model_index]\n",
    "intercept = sparseDiversePool_beta0_integer[model_index]\n",
    "coefficients = sparseDiversePool_betas_integer[model_index]"
   ]
  },
  {
   "cell_type": "code",
   "execution_count": 21,
   "metadata": {},
   "outputs": [],
   "source": [
    "RiskScoreClassifier_m = RiskScoreClassifier(multiplier, intercept, coefficients)"
   ]
  },
  {
   "cell_type": "code",
   "execution_count": 22,
   "metadata": {},
   "outputs": [],
   "source": [
    "y_test_pred_prob = RiskScoreClassifier_m.predict_prob(X_test_binarized)"
   ]
  },
  {
   "cell_type": "code",
   "execution_count": 23,
   "metadata": {},
   "outputs": [
    {
     "data": {
      "image/png": "[encoded data removed]",
      "text/plain": [
       "<Figure size 1000x800 with 1 Axes>"
      ]
     },
     "metadata": {},
     "output_type": "display_data"
    },
    {
     "data": {
      "image/png": "[encoded data removed]",
      "text/plain": [
       "<Figure size 1000x800 with 1 Axes>"
      ]
     },
     "metadata": {},
     "output_type": "display_data"
    },
    {
     "name": "stdout",
     "output_type": "stream",
     "text": [
      "The Risk Score is:\n",
      "1.                             the slope of the peak exercise ST segment < 1.5     -1 point(s) |   ...\n",
      "2.                   number of major vessels (0-3) colored by flourosopy < 0.5     -1 point(s) | + ...\n",
      "3.                                                         chest pain type_4.0      1 point(s) | + ...\n",
      "4.                                                                    thal_7.0      1 point(s) | + ...\n",
      "                                                                                         SCORE | =    \n",
      "SCORE |  -2.0  |  -1.0  |   0.0  |\n",
      "RISK  |   5.7% |  19.7% |  50.0% |\n",
      "SCORE |   1.0  |   2.0  |\n",
      "RISK  |  80.3% |  94.3% |\n"
     ]
    }
   ],
   "source": [
    "y_proba = RiskScoreClassifier_m.predict_prob(X_train_binarized.values)\n",
    "\n",
    "precision, recall, thresholds = precision_recall_curve(y_train, y_proba)\n",
    "fig, ax = plt.subplots(figsize=(10, 8))\n",
    "plt.plot(recall, precision)\n",
    "average_precision = np.round(average_precision_score(y_train.astype(int), y_proba), 3)\n",
    "logloss = np.round(log_loss(y_train.astype(int), y_proba), 3)\n",
    "title_PR_curve = f\"Average precision : \\n{average_precision} \\n Logloss : \\n{logloss}\"\n",
    "plt.title(title_PR_curve)\n",
    "plt.grid()\n",
    "plt.show()\n",
    "\n",
    "y_proba = RiskScoreClassifier_m.predict_prob(X_test_binarized.values)\n",
    "\n",
    "precision, recall, thresholds = precision_recall_curve(y_test, y_proba)\n",
    "fig, ax = plt.subplots(figsize=(10, 8))\n",
    "plt.plot(recall, precision)\n",
    "average_precision = np.round(average_precision_score(y_test.astype(int), y_proba), 3)\n",
    "logloss = np.round(log_loss(y_test.astype(int), y_proba), 3)\n",
    "title_PR_curve = f\"Average precision : \\n{average_precision} \\n Logloss : \\n{logloss}\"\n",
    "plt.title(title_PR_curve)\n",
    "plt.grid()\n",
    "plt.show()\n",
    "\n",
    "X_featureNames = list(X_train_binarized.columns[:])\n",
    "\n",
    "RiskScoreClassifier_m.reset_featureNames(X_featureNames)\n",
    "RiskScoreClassifier_m.print_model_card()"
   ]
  },
  {
   "cell_type": "code",
   "execution_count": 24,
   "metadata": {},
   "outputs": [
    {
     "data": {
      "text/html": [
       "<div>\n",
       "<style scoped>\n",
       "    .dataframe tbody tr th:only-of-type {\n",
       "        vertical-align: middle;\n",
       "    }\n",
       "\n",
       "    .dataframe tbody tr th {\n",
       "        vertical-align: top;\n",
       "    }\n",
       "\n",
       "    .dataframe thead th {\n",
       "        text-align: right;\n",
       "    }\n",
       "</style>\n",
       "<table border=\"1\" class=\"dataframe\">\n",
       "  <thead>\n",
       "    <tr style=\"text-align: right;\">\n",
       "      <th></th>\n",
       "      <th>EBM_log_odds_contribution</th>\n",
       "      <th>lower_threshold</th>\n",
       "      <th>upper_threshold</th>\n",
       "      <th>category_value</th>\n",
       "      <th>feature</th>\n",
       "      <th>type</th>\n",
       "      <th>density</th>\n",
       "      <th>abs_contribution</th>\n",
       "    </tr>\n",
       "    <tr>\n",
       "      <th>binary_feature</th>\n",
       "      <th></th>\n",
       "      <th></th>\n",
       "      <th></th>\n",
       "      <th></th>\n",
       "      <th></th>\n",
       "      <th></th>\n",
       "      <th></th>\n",
       "      <th></th>\n",
       "    </tr>\n",
       "  </thead>\n",
       "  <tbody>\n",
       "    <tr>\n",
       "      <th>exercise induced angina_0.0</th>\n",
       "      <td>-0.227448</td>\n",
       "      <td>None</td>\n",
       "      <td>None</td>\n",
       "      <td>0.0</td>\n",
       "      <td>exercise induced angina</td>\n",
       "      <td>categorical</td>\n",
       "      <td>132</td>\n",
       "      <td>30.023078</td>\n",
       "    </tr>\n",
       "    <tr>\n",
       "      <th>exercise induced angina_1.0</th>\n",
       "      <td>0.428901</td>\n",
       "      <td>None</td>\n",
       "      <td>None</td>\n",
       "      <td>1.0</td>\n",
       "      <td>exercise induced angina</td>\n",
       "      <td>categorical</td>\n",
       "      <td>70</td>\n",
       "      <td>30.023078</td>\n",
       "    </tr>\n",
       "    <tr>\n",
       "      <th>chest pain type_3.0</th>\n",
       "      <td>-0.567483</td>\n",
       "      <td>None</td>\n",
       "      <td>None</td>\n",
       "      <td>3.0</td>\n",
       "      <td>chest pain type</td>\n",
       "      <td>categorical</td>\n",
       "      <td>56</td>\n",
       "      <td>31.779024</td>\n",
       "    </tr>\n",
       "    <tr>\n",
       "      <th>serum cholestoral in mg/dl &gt;= 265.5</th>\n",
       "      <td>0.49601</td>\n",
       "      <td>265.5</td>\n",
       "      <td>NaN</td>\n",
       "      <td>None</td>\n",
       "      <td>serum cholestoral in mg/dl</td>\n",
       "      <td>continuous</td>\n",
       "      <td>67</td>\n",
       "      <td>33.232651</td>\n",
       "    </tr>\n",
       "    <tr>\n",
       "      <th>oldpeak = ST depression induced by exercise relative to rest &gt;= 1.35</th>\n",
       "      <td>0.513928</td>\n",
       "      <td>1.35</td>\n",
       "      <td>NaN</td>\n",
       "      <td>None</td>\n",
       "      <td>oldpeak = ST depression induced by exercise re...</td>\n",
       "      <td>continuous</td>\n",
       "      <td>74</td>\n",
       "      <td>38.030659</td>\n",
       "    </tr>\n",
       "    <tr>\n",
       "      <th>thal_3.0</th>\n",
       "      <td>-0.358553</td>\n",
       "      <td>None</td>\n",
       "      <td>None</td>\n",
       "      <td>3.0</td>\n",
       "      <td>thal</td>\n",
       "      <td>categorical</td>\n",
       "      <td>114</td>\n",
       "      <td>40.875011</td>\n",
       "    </tr>\n",
       "    <tr>\n",
       "      <th>1.5 &lt;= the slope of the peak exercise ST segment &lt; 2.5</th>\n",
       "      <td>0.455746</td>\n",
       "      <td>1.5</td>\n",
       "      <td>2.5</td>\n",
       "      <td>None</td>\n",
       "      <td>the slope of the peak exercise ST segment</td>\n",
       "      <td>continuous</td>\n",
       "      <td>92</td>\n",
       "      <td>41.928629</td>\n",
       "    </tr>\n",
       "    <tr>\n",
       "      <th>the slope of the peak exercise ST segment &lt; 1.5</th>\n",
       "      <td>-0.439678</td>\n",
       "      <td>NaN</td>\n",
       "      <td>1.5</td>\n",
       "      <td>None</td>\n",
       "      <td>the slope of the peak exercise ST segment</td>\n",
       "      <td>continuous</td>\n",
       "      <td>97</td>\n",
       "      <td>42.648785</td>\n",
       "    </tr>\n",
       "    <tr>\n",
       "      <th>sex_0.0</th>\n",
       "      <td>-0.719099</td>\n",
       "      <td>None</td>\n",
       "      <td>None</td>\n",
       "      <td>0.0</td>\n",
       "      <td>sex</td>\n",
       "      <td>categorical</td>\n",
       "      <td>63</td>\n",
       "      <td>45.303209</td>\n",
       "    </tr>\n",
       "    <tr>\n",
       "      <th>sex_1.0</th>\n",
       "      <td>0.325922</td>\n",
       "      <td>None</td>\n",
       "      <td>None</td>\n",
       "      <td>1.0</td>\n",
       "      <td>sex</td>\n",
       "      <td>categorical</td>\n",
       "      <td>139</td>\n",
       "      <td>45.303209</td>\n",
       "    </tr>\n",
       "    <tr>\n",
       "      <th>thal_7.0</th>\n",
       "      <td>0.605103</td>\n",
       "      <td>None</td>\n",
       "      <td>None</td>\n",
       "      <td>7.0</td>\n",
       "      <td>thal</td>\n",
       "      <td>categorical</td>\n",
       "      <td>76</td>\n",
       "      <td>45.987866</td>\n",
       "    </tr>\n",
       "    <tr>\n",
       "      <th>number of major vessels (0-3) colored by flourosopy &gt;= 1.5</th>\n",
       "      <td>1.41974</td>\n",
       "      <td>1.5</td>\n",
       "      <td>NaN</td>\n",
       "      <td>None</td>\n",
       "      <td>number of major vessels (0-3) colored by flour...</td>\n",
       "      <td>continuous</td>\n",
       "      <td>38</td>\n",
       "      <td>53.950134</td>\n",
       "    </tr>\n",
       "    <tr>\n",
       "      <th>chest pain type_4.0</th>\n",
       "      <td>0.737869</td>\n",
       "      <td>None</td>\n",
       "      <td>None</td>\n",
       "      <td>4.0</td>\n",
       "      <td>chest pain type</td>\n",
       "      <td>categorical</td>\n",
       "      <td>96</td>\n",
       "      <td>70.835377</td>\n",
       "    </tr>\n",
       "    <tr>\n",
       "      <th>number of major vessels (0-3) colored by flourosopy &lt; 0.5</th>\n",
       "      <td>-0.616523</td>\n",
       "      <td>NaN</td>\n",
       "      <td>0.5</td>\n",
       "      <td>None</td>\n",
       "      <td>number of major vessels (0-3) colored by flour...</td>\n",
       "      <td>continuous</td>\n",
       "      <td>121</td>\n",
       "      <td>74.59925</td>\n",
       "    </tr>\n",
       "    <tr>\n",
       "      <th>intercept</th>\n",
       "      <td>-0.202602</td>\n",
       "      <td>None</td>\n",
       "      <td>None</td>\n",
       "      <td>None</td>\n",
       "      <td>intercept</td>\n",
       "      <td>None</td>\n",
       "      <td>None</td>\n",
       "      <td>NaN</td>\n",
       "    </tr>\n",
       "  </tbody>\n",
       "</table>\n",
       "</div>"
      ],
      "text/plain": [
       "                                                   EBM_log_odds_contribution  \\\n",
       "binary_feature                                                                 \n",
       "exercise induced angina_0.0                                        -0.227448   \n",
       "exercise induced angina_1.0                                         0.428901   \n",
       "chest pain type_3.0                                                -0.567483   \n",
       "serum cholestoral in mg/dl >= 265.5                                  0.49601   \n",
       "oldpeak = ST depression induced by exercise rel...                  0.513928   \n",
       "thal_3.0                                                           -0.358553   \n",
       "1.5 <= the slope of the peak exercise ST segmen...                  0.455746   \n",
       "the slope of the peak exercise ST segment < 1.5                    -0.439678   \n",
       "sex_0.0                                                            -0.719099   \n",
       "sex_1.0                                                             0.325922   \n",
       "thal_7.0                                                            0.605103   \n",
       "number of major vessels (0-3) colored by flouro...                   1.41974   \n",
       "chest pain type_4.0                                                 0.737869   \n",
       "number of major vessels (0-3) colored by flouro...                 -0.616523   \n",
       "intercept                                                          -0.202602   \n",
       "\n",
       "                                                   lower_threshold  \\\n",
       "binary_feature                                                       \n",
       "exercise induced angina_0.0                                   None   \n",
       "exercise induced angina_1.0                                   None   \n",
       "chest pain type_3.0                                           None   \n",
       "serum cholestoral in mg/dl >= 265.5                          265.5   \n",
       "oldpeak = ST depression induced by exercise rel...            1.35   \n",
       "thal_3.0                                                      None   \n",
       "1.5 <= the slope of the peak exercise ST segmen...             1.5   \n",
       "the slope of the peak exercise ST segment < 1.5                NaN   \n",
       "sex_0.0                                                       None   \n",
       "sex_1.0                                                       None   \n",
       "thal_7.0                                                      None   \n",
       "number of major vessels (0-3) colored by flouro...             1.5   \n",
       "chest pain type_4.0                                           None   \n",
       "number of major vessels (0-3) colored by flouro...             NaN   \n",
       "intercept                                                     None   \n",
       "\n",
       "                                                   upper_threshold  \\\n",
       "binary_feature                                                       \n",
       "exercise induced angina_0.0                                   None   \n",
       "exercise induced angina_1.0                                   None   \n",
       "chest pain type_3.0                                           None   \n",
       "serum cholestoral in mg/dl >= 265.5                            NaN   \n",
       "oldpeak = ST depression induced by exercise rel...             NaN   \n",
       "thal_3.0                                                      None   \n",
       "1.5 <= the slope of the peak exercise ST segmen...             2.5   \n",
       "the slope of the peak exercise ST segment < 1.5                1.5   \n",
       "sex_0.0                                                       None   \n",
       "sex_1.0                                                       None   \n",
       "thal_7.0                                                      None   \n",
       "number of major vessels (0-3) colored by flouro...             NaN   \n",
       "chest pain type_4.0                                           None   \n",
       "number of major vessels (0-3) colored by flouro...             0.5   \n",
       "intercept                                                     None   \n",
       "\n",
       "                                                   category_value  \\\n",
       "binary_feature                                                      \n",
       "exercise induced angina_0.0                                   0.0   \n",
       "exercise induced angina_1.0                                   1.0   \n",
       "chest pain type_3.0                                           3.0   \n",
       "serum cholestoral in mg/dl >= 265.5                          None   \n",
       "oldpeak = ST depression induced by exercise rel...           None   \n",
       "thal_3.0                                                      3.0   \n",
       "1.5 <= the slope of the peak exercise ST segmen...           None   \n",
       "the slope of the peak exercise ST segment < 1.5              None   \n",
       "sex_0.0                                                       0.0   \n",
       "sex_1.0                                                       1.0   \n",
       "thal_7.0                                                      7.0   \n",
       "number of major vessels (0-3) colored by flouro...           None   \n",
       "chest pain type_4.0                                           4.0   \n",
       "number of major vessels (0-3) colored by flouro...           None   \n",
       "intercept                                                    None   \n",
       "\n",
       "                                                                                              feature  \\\n",
       "binary_feature                                                                                          \n",
       "exercise induced angina_0.0                                                   exercise induced angina   \n",
       "exercise induced angina_1.0                                                   exercise induced angina   \n",
       "chest pain type_3.0                                                                   chest pain type   \n",
       "serum cholestoral in mg/dl >= 265.5                                        serum cholestoral in mg/dl   \n",
       "oldpeak = ST depression induced by exercise rel...  oldpeak = ST depression induced by exercise re...   \n",
       "thal_3.0                                                                                         thal   \n",
       "1.5 <= the slope of the peak exercise ST segmen...          the slope of the peak exercise ST segment   \n",
       "the slope of the peak exercise ST segment < 1.5             the slope of the peak exercise ST segment   \n",
       "sex_0.0                                                                                           sex   \n",
       "sex_1.0                                                                                           sex   \n",
       "thal_7.0                                                                                         thal   \n",
       "number of major vessels (0-3) colored by flouro...  number of major vessels (0-3) colored by flour...   \n",
       "chest pain type_4.0                                                                   chest pain type   \n",
       "number of major vessels (0-3) colored by flouro...  number of major vessels (0-3) colored by flour...   \n",
       "intercept                                                                                   intercept   \n",
       "\n",
       "                                                           type density  \\\n",
       "binary_feature                                                            \n",
       "exercise induced angina_0.0                         categorical     132   \n",
       "exercise induced angina_1.0                         categorical      70   \n",
       "chest pain type_3.0                                 categorical      56   \n",
       "serum cholestoral in mg/dl >= 265.5                  continuous      67   \n",
       "oldpeak = ST depression induced by exercise rel...   continuous      74   \n",
       "thal_3.0                                            categorical     114   \n",
       "1.5 <= the slope of the peak exercise ST segmen...   continuous      92   \n",
       "the slope of the peak exercise ST segment < 1.5      continuous      97   \n",
       "sex_0.0                                             categorical      63   \n",
       "sex_1.0                                             categorical     139   \n",
       "thal_7.0                                            categorical      76   \n",
       "number of major vessels (0-3) colored by flouro...   continuous      38   \n",
       "chest pain type_4.0                                 categorical      96   \n",
       "number of major vessels (0-3) colored by flouro...   continuous     121   \n",
       "intercept                                                  None    None   \n",
       "\n",
       "                                                   abs_contribution  \n",
       "binary_feature                                                       \n",
       "exercise induced angina_0.0                               30.023078  \n",
       "exercise induced angina_1.0                               30.023078  \n",
       "chest pain type_3.0                                       31.779024  \n",
       "serum cholestoral in mg/dl >= 265.5                       33.232651  \n",
       "oldpeak = ST depression induced by exercise rel...        38.030659  \n",
       "thal_3.0                                                  40.875011  \n",
       "1.5 <= the slope of the peak exercise ST segmen...        41.928629  \n",
       "the slope of the peak exercise ST segment < 1.5           42.648785  \n",
       "sex_0.0                                                   45.303209  \n",
       "sex_1.0                                                   45.303209  \n",
       "thal_7.0                                                  45.987866  \n",
       "number of major vessels (0-3) colored by flouro...        53.950134  \n",
       "chest pain type_4.0                                       70.835377  \n",
       "number of major vessels (0-3) colored by flouro...         74.59925  \n",
       "intercept                                                       NaN  "
      ]
     },
     "execution_count": 24,
     "metadata": {},
     "output_type": "execute_result"
    }
   ],
   "source": [
    "ebm_model._binarizer.df_score_feature.sort_values(by='abs_contribution').tail(15)"
   ]
  },
  {
   "cell_type": "code",
   "execution_count": 25,
   "metadata": {},
   "outputs": [
    {
     "data": {
      "image/png": "[encoded data removed]",
      "text/plain": [
       "<Figure size 700x700 with 1 Axes>"
      ]
     },
     "metadata": {},
     "output_type": "display_data"
    },
    {
     "data": {
      "image/png": "[encoded data removed]",
      "text/plain": [
       "<Figure size 700x700 with 1 Axes>"
      ]
     },
     "metadata": {},
     "output_type": "display_data"
    }
   ],
   "source": [
    "import matplotlib.pyplot as plt\n",
    "from sklearn.metrics import precision_recall_curve, average_precision_score, log_loss\n",
    "\n",
    "y_proba = ebm_model.predict_proba(X_train)[:, 1].reshape(-1, 1)\n",
    "\n",
    "precision, recall, thresholds = precision_recall_curve(y_train.astype(int), y_proba)\n",
    "fig, ax = plt.subplots(figsize=(7, 7))\n",
    "plt.plot(recall, precision)\n",
    "average_precision = np.round(average_precision_score(y_train.astype(int), y_proba), 3)\n",
    "logloss = np.round(log_loss(y_train.astype(int), y_proba), 3)\n",
    "title_PR_curve = f\"Average precision : \\n{average_precision} \\n Logloss : \\n{logloss}\"\n",
    "plt.title(title_PR_curve)\n",
    "plt.xlabel(\"Recall\")\n",
    "plt.ylabel(\"Precision\")\n",
    "plt.grid()\n",
    "plt.show()\n",
    "\n",
    "\n",
    "y_proba = ebm_model.predict_proba(X_test)[:, 1].reshape(-1, 1)\n",
    "\n",
    "precision, recall, thresholds = precision_recall_curve(y_test.astype(int), y_proba)\n",
    "fig, ax = plt.subplots(figsize=(7, 7))\n",
    "plt.plot(recall, precision)\n",
    "average_precision = np.round(average_precision_score(y_test.astype(int), y_proba), 3)\n",
    "logloss = np.round(log_loss(y_test.astype(int), y_proba), 3)\n",
    "title_PR_curve = f\"Average precision : \\n{average_precision} \\n Logloss : \\n{logloss}\"\n",
    "plt.title(title_PR_curve)\n",
    "plt.xlabel(\"Recall\")\n",
    "plt.ylabel(\"Precision\")\n",
    "plt.grid()\n",
    "plt.show()"
   ]
  },
  {
   "cell_type": "code",
   "execution_count": null,
   "metadata": {},
   "outputs": [],
   "source": []
  }
 ],
 "metadata": {
  "kernelspec": {
   "display_name": "Python 3.9.15 ('env_scorepyo_without_setuppy')",
   "language": "python",
   "name": "python3"
  },
  "language_info": {
   "codemirror_mode": {
    "name": "ipython",
    "version": 3
   },
   "file_extension": ".py",
   "mimetype": "text/x-python",
   "name": "python",
   "nbconvert_exporter": "python",
   "pygments_lexer": "ipython3",
   "version": "3.9.15"
  },
  "orig_nbformat": 4,
  "vscode": {
   "interpreter": {
    "hash": "e746fec48abda6224573652c21b66cdde6d6035f1336b7c5e8e7f1b99ef46209"
   }
  }
 },
 "nbformat": 4,
 "nbformat_minor": 2
}
