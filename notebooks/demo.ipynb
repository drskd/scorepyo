{
 "cells": [
  {
   "cell_type": "code",
   "execution_count": 16,
   "metadata": {},
   "outputs": [],
   "source": [
    "import numpy as np\n",
    "import pandas as pd\n",
    "#test\n",
    "\n",
    "from sklearn.model_selection import train_test_split\n",
    "from sklearn.datasets import load_breast_cancer\n",
    "\n",
    "from interpret.glassbox import ExplainableBoostingClassifier\n",
    "\n",
    "data = load_breast_cancer()\n",
    "data_X, y = data.data, data.target"
   ]
  },
  {
   "cell_type": "code",
   "execution_count": 2,
   "metadata": {},
   "outputs": [],
   "source": [
    "X = pd.DataFrame(data=data_X, columns = data.feature_names)"
   ]
  },
  {
   "cell_type": "code",
   "execution_count": 3,
   "metadata": {},
   "outputs": [],
   "source": [
    "X_train, X_test, y_train, y_test = train_test_split(X,y,test_size=0.25, random_state=0)"
   ]
  },
  {
   "cell_type": "code",
   "execution_count": 4,
   "metadata": {},
   "outputs": [
    {
     "data": {
      "text/plain": [
       "[1,\n",
       " 1,\n",
       " 1,\n",
       " 1,\n",
       " 1,\n",
       " 1,\n",
       " 1,\n",
       " 1,\n",
       " 1,\n",
       " 1,\n",
       " 1,\n",
       " 1,\n",
       " 1,\n",
       " 1,\n",
       " 1,\n",
       " 1,\n",
       " 1,\n",
       " 1,\n",
       " 1,\n",
       " 1,\n",
       " 1,\n",
       " 1,\n",
       " 1,\n",
       " 1,\n",
       " 1,\n",
       " 1,\n",
       " 1,\n",
       " 1,\n",
       " 1,\n",
       " 1]"
      ]
     },
     "execution_count": 4,
     "metadata": {},
     "output_type": "execute_result"
    }
   ],
   "source": [
    "max_number_segments_by_features = 1\n",
    "ebm = ExplainableBoostingClassifier(interactions=0, max_bins=max_number_segments_by_features+2,)\n",
    "ebm.fit(X_train, y_train)\n",
    "ebm_global = ebm.explain_global(name='EBM')\n",
    "[len(ebm_global.data(i)['scores']) for i in range(X_train.shape[1])]\n",
    "        "
   ]
  },
  {
   "cell_type": "code",
   "execution_count": 5,
   "metadata": {},
   "outputs": [],
   "source": [
    "\n",
    "def compute_binarized_features_from_ebm(X_train, y_train, X_test, max_number_segments_by_features=2,keep_negative = False):\n",
    "    ebm = ExplainableBoostingClassifier(interactions=0, max_bins=max_number_segments_by_features+2)\n",
    "    ebm.fit(X_train, y_train)\n",
    "    ebm_global = ebm.explain_global(name='EBM')\n",
    "    \n",
    "    X_train_binarized = pd.DataFrame()\n",
    "    X_test_binarized = pd.DataFrame()\n",
    "    list_scores = []\n",
    "    list_lower_threshold = []\n",
    "    list_upper_threshold = []\n",
    "    for i,feature_name in enumerate(ebm_global.data()['names']):\n",
    "        dico_feature_i = ebm_global.data(i)\n",
    "        \n",
    "        number_plateau = len(ebm_global.data(i)['scores'])\n",
    "        \n",
    "                        \n",
    "        for j in range(number_plateau):\n",
    "            contrib = dico_feature_i['scores'][j]\n",
    "            \n",
    "            if (contrib < 0) and (not keep_negative):\n",
    "                continue\n",
    "            threshold_lower = dico_feature_i['names'][j] \n",
    "            threshold_upper = dico_feature_i['names'][j+1]\n",
    "            \n",
    "            feature_name_binarized_lower  = f'{feature_name} >= {np.round(threshold_lower,2)}'\n",
    "            feature_name_binarized_upper  = f'{feature_name} < {np.round(threshold_upper,2)}'\n",
    "            if j == 0:\n",
    "                col_name = feature_name_binarized_upper\n",
    "                X_train_binarized[col_name] = (X_train[feature_name] < threshold_upper)\n",
    "                X_test_binarized[col_name] = (X_test[feature_name] < threshold_upper)\n",
    "                \n",
    "                list_lower_threshold.append(np.nan)\n",
    "                list_upper_threshold.append(threshold_upper)\n",
    "            elif j==number_plateau-1:\n",
    "                col_name = feature_name_binarized_lower\n",
    "                X_train_binarized[col_name] = (X_train[feature_name] >= threshold_lower)\n",
    "                X_test_binarized[col_name] = (X_test[feature_name] >= threshold_lower)\n",
    "                list_lower_threshold.append(threshold_lower)\n",
    "                list_upper_threshold.append(np.nan)\n",
    "            else:\n",
    "                col_name = feature_name_binarized_lower+' and '+ feature_name_binarized_upper\n",
    "                X_train_binarized[col_name] = (X_train[feature_name] < threshold_upper) & (X_train[feature_name] >= threshold_lower)\n",
    "                X_test_binarized[col_name] = (X_test[feature_name] < threshold_upper) & (X_test[feature_name] >= threshold_lower)\n",
    "                list_lower_threshold.append(threshold_lower)\n",
    "                list_upper_threshold.append(threshold_upper)\n",
    "                \n",
    "            X_train_binarized[col_name] = X_train_binarized[col_name].astype(int)\n",
    "                \n",
    "            list_scores.append(contrib)\n",
    "    df_score_feature = pd.DataFrame(index=X_train_binarized.columns, data=np.array([list_scores, list_lower_threshold, list_upper_threshold]).T, columns=['contrib', 'lower_threshold', 'upper_threshold'])\n",
    "    row_intercept = pd.DataFrame(index=['intercept'], columns =df_score_feature.columns, data=[[ebm.intercept_[0],None, None]])\n",
    "    df_score_feature = pd.concat([df_score_feature, row_intercept],axis=0)\n",
    "            \n",
    "    return X_train_binarized, X_test_binarized, df_score_feature\n",
    "        \n"
   ]
  },
  {
   "cell_type": "code",
   "execution_count": 6,
   "metadata": {},
   "outputs": [],
   "source": [
    "number_binaries_by_features = 2\n",
    "keep_negative = True\n",
    "\n",
    "\n",
    "X_train_binarized, X_test_binarized, df_score_feature = compute_binarized_features_from_ebm(X_train, y_train, X_test, max_number_segments_by_features=number_binaries_by_features, keep_negative = keep_negative)\n"
   ]
  },
  {
   "cell_type": "code",
   "execution_count": 7,
   "metadata": {},
   "outputs": [
    {
     "data": {
      "text/html": [
       "<div>\n",
       "<style scoped>\n",
       "    .dataframe tbody tr th:only-of-type {\n",
       "        vertical-align: middle;\n",
       "    }\n",
       "\n",
       "    .dataframe tbody tr th {\n",
       "        vertical-align: top;\n",
       "    }\n",
       "\n",
       "    .dataframe thead th {\n",
       "        text-align: right;\n",
       "    }\n",
       "</style>\n",
       "<table border=\"1\" class=\"dataframe\">\n",
       "  <thead>\n",
       "    <tr style=\"text-align: right;\">\n",
       "      <th></th>\n",
       "      <th>contrib</th>\n",
       "      <th>lower_threshold</th>\n",
       "      <th>upper_threshold</th>\n",
       "    </tr>\n",
       "  </thead>\n",
       "  <tbody>\n",
       "    <tr>\n",
       "      <th>mean radius &lt; 13.38</th>\n",
       "      <td>0.118395</td>\n",
       "      <td>NaN</td>\n",
       "      <td>13.37500</td>\n",
       "    </tr>\n",
       "    <tr>\n",
       "      <th>mean radius &gt;= 13.38</th>\n",
       "      <td>-0.118395</td>\n",
       "      <td>13.37500</td>\n",
       "      <td>NaN</td>\n",
       "    </tr>\n",
       "    <tr>\n",
       "      <th>mean texture &lt; 18.81</th>\n",
       "      <td>0.551840</td>\n",
       "      <td>NaN</td>\n",
       "      <td>18.81000</td>\n",
       "    </tr>\n",
       "    <tr>\n",
       "      <th>mean texture &gt;= 18.81</th>\n",
       "      <td>-0.551840</td>\n",
       "      <td>18.81000</td>\n",
       "      <td>NaN</td>\n",
       "    </tr>\n",
       "    <tr>\n",
       "      <th>mean perimeter &lt; 86.29</th>\n",
       "      <td>-0.005638</td>\n",
       "      <td>NaN</td>\n",
       "      <td>86.29000</td>\n",
       "    </tr>\n",
       "    <tr>\n",
       "      <th>...</th>\n",
       "      <td>...</td>\n",
       "      <td>...</td>\n",
       "      <td>...</td>\n",
       "    </tr>\n",
       "    <tr>\n",
       "      <th>worst symmetry &lt; 0.28</th>\n",
       "      <td>0.428603</td>\n",
       "      <td>NaN</td>\n",
       "      <td>0.28110</td>\n",
       "    </tr>\n",
       "    <tr>\n",
       "      <th>worst symmetry &gt;= 0.28</th>\n",
       "      <td>-0.428603</td>\n",
       "      <td>0.28110</td>\n",
       "      <td>NaN</td>\n",
       "    </tr>\n",
       "    <tr>\n",
       "      <th>worst fractal dimension &lt; 0.08</th>\n",
       "      <td>-0.041037</td>\n",
       "      <td>NaN</td>\n",
       "      <td>0.07993</td>\n",
       "    </tr>\n",
       "    <tr>\n",
       "      <th>worst fractal dimension &gt;= 0.08</th>\n",
       "      <td>0.041037</td>\n",
       "      <td>0.07993</td>\n",
       "      <td>NaN</td>\n",
       "    </tr>\n",
       "    <tr>\n",
       "      <th>intercept</th>\n",
       "      <td>1.782488</td>\n",
       "      <td>NaN</td>\n",
       "      <td>NaN</td>\n",
       "    </tr>\n",
       "  </tbody>\n",
       "</table>\n",
       "<p>61 rows × 3 columns</p>\n",
       "</div>"
      ],
      "text/plain": [
       "                                  contrib  lower_threshold  upper_threshold\n",
       "mean radius < 13.38              0.118395              NaN         13.37500\n",
       "mean radius >= 13.38            -0.118395         13.37500              NaN\n",
       "mean texture < 18.81             0.551840              NaN         18.81000\n",
       "mean texture >= 18.81           -0.551840         18.81000              NaN\n",
       "mean perimeter < 86.29          -0.005638              NaN         86.29000\n",
       "...                                   ...              ...              ...\n",
       "worst symmetry < 0.28            0.428603              NaN          0.28110\n",
       "worst symmetry >= 0.28          -0.428603          0.28110              NaN\n",
       "worst fractal dimension < 0.08  -0.041037              NaN          0.07993\n",
       "worst fractal dimension >= 0.08  0.041037          0.07993              NaN\n",
       "intercept                        1.782488              NaN              NaN\n",
       "\n",
       "[61 rows x 3 columns]"
      ]
     },
     "execution_count": 7,
     "metadata": {},
     "output_type": "execute_result"
    }
   ],
   "source": [
    "df_score_feature"
   ]
  },
  {
   "cell_type": "code",
   "execution_count": 8,
   "metadata": {},
   "outputs": [],
   "source": [
    "from sklearn.metrics import log_loss\n",
    "\n",
    "def objective(trial, X_train, y_train, n_features, min_score,max_score):\n",
    "    param_grid_score = {\n",
    "        f\"feature_{i}_score\":trial.suggest_int(f\"feature_{i}_score\", min_score, max_score) for i in range(n_features)\n",
    "    }\n",
    "\n",
    "    param_grid_choice_feature = {\n",
    "        f\"feature_{i}_choice\":trial.suggest_categorical(f\"feature_{i}_choice\", X_train.columns) for i in range(n_features)\n",
    "    }\n",
    "\n",
    "    score_intercept = trial.suggest_float(\"intercept\", -10+min_score*n_features, 10+max_score*n_features, step=0.5)\n",
    "\n",
    "    selected_features = [param_grid_choice_feature[f\"feature_{i}_choice\"] for i in range(n_features) ]\n",
    "\n",
    "    score_vector = [param_grid_score[f\"feature_{i}_score\"] for i in range(n_features)]\n",
    "\n",
    "    score_train = np.matmul(X_train[selected_features].values, np.transpose(score_vector))\n",
    "    score_train_associated_probabilities = 1/(1+np.exp(-(score_train+score_intercept)))\n",
    "\n",
    "    logloss_train = log_loss(y_train, score_train_associated_probabilities)\n",
    "\n",
    "    return logloss_train\n",
    "\n",
    "\n"
   ]
  },
  {
   "cell_type": "code",
   "execution_count": 9,
   "metadata": {},
   "outputs": [
    {
     "name": "stderr",
     "output_type": "stream",
     "text": [
      "c:\\Users\\S5384228\\Anaconda3\\envs\\env_scorepyo\\lib\\site-packages\\tqdm\\auto.py:22: TqdmWarning: IProgress not found. Please update jupyter and ipywidgets. See https://ipywidgets.readthedocs.io/en/stable/user_install.html\n",
      "  from .autonotebook import tqdm as notebook_tqdm\n"
     ]
    },
    {
     "name": "stdout",
     "output_type": "stream",
     "text": [
      "Number of finished trials:  300\n",
      "Best log loss: 0.2812153112418794\n"
     ]
    }
   ],
   "source": [
    "import optuna \n",
    "n_features = 3\n",
    "min_score = -3\n",
    "max_score = 3\n",
    "optuna_objective = lambda trial : objective(trial, X_train_binarized, y_train, n_features, min_score,max_score)\n",
    "\n",
    "# Setting the logging level WARNING, the INFO logs are suppressed.\n",
    "optuna.logging.set_verbosity(optuna.logging.WARNING)\n",
    "study = optuna.create_study(\n",
    "    direction=\"minimize\",\n",
    "    study_name=\"Score search\"\n",
    ")\n",
    "study.optimize(optuna_objective, n_trials=300, timeout=90)\n",
    "\n",
    "print(\"Number of finished trials: \", len(study.trials))\n",
    "print(\"Best log loss:\", study.best_value)"
   ]
  },
  {
   "cell_type": "code",
   "execution_count": 10,
   "metadata": {},
   "outputs": [
    {
     "data": {
      "text/plain": [
       "{'feature_0_score': 0,\n",
       " 'feature_1_score': -3,\n",
       " 'feature_2_score': 3,\n",
       " 'feature_0_choice': 'mean compactness < 0.09',\n",
       " 'feature_1_choice': 'mean concave points >= 0.03',\n",
       " 'feature_2_choice': 'worst radius < 14.96',\n",
       " 'intercept': 1.5}"
      ]
     },
     "execution_count": 10,
     "metadata": {},
     "output_type": "execute_result"
    }
   ],
   "source": [
    "study.best_params"
   ]
  },
  {
   "cell_type": "code",
   "execution_count": 11,
   "metadata": {},
   "outputs": [],
   "source": [
    "def predict_proba_score(score,intercept_score):\n",
    "    proba = 1/(1+np.exp(-(score+intercept_score)))\n",
    "    return proba\n",
    "selected_scorepyo_features_point = [study.best_params[f'feature_{i}_score']for i in range(n_features)]\n",
    "selected_scorepyo_features = [study.best_params[f'feature_{i}_choice']for i in range(n_features)]\n",
    "_selected_intercept = study.best_params['intercept']\n",
    "\n",
    "df_score_card = df_score_feature.loc[selected_scorepyo_features,:].copy()\n",
    "df_score_card['point'] = selected_scorepyo_features_point\n",
    "\n",
    "min_range_score = sum(np.clip(i,a_min=None, a_max=0) for i in df_score_card['point'].values)\n",
    "max_range_score = sum(np.clip(i,a_min=0, a_max=None) for i in df_score_card['point'].values)\n",
    "possible_scores = list(range(min_range_score,max_range_score+1))\n",
    "possible_risks = [predict_proba_score(s,_selected_intercept) for s in possible_scores]\n",
    "possible_risks_pct = [f'{r:.2%}' for r in possible_risks]\n",
    "df_score_table = pd.DataFrame(index=['SCORE', 'RISK', '_RISK_FLOAT'], data = [possible_scores, possible_risks_pct, possible_risks])\n",
    "\n"
   ]
  },
  {
   "cell_type": "code",
   "execution_count": 12,
   "metadata": {},
   "outputs": [
    {
     "data": {
      "text/html": [
       "<div>\n",
       "<style scoped>\n",
       "    .dataframe tbody tr th:only-of-type {\n",
       "        vertical-align: middle;\n",
       "    }\n",
       "\n",
       "    .dataframe tbody tr th {\n",
       "        vertical-align: top;\n",
       "    }\n",
       "\n",
       "    .dataframe thead th {\n",
       "        text-align: right;\n",
       "    }\n",
       "</style>\n",
       "<table border=\"1\" class=\"dataframe\">\n",
       "  <thead>\n",
       "    <tr style=\"text-align: right;\">\n",
       "      <th></th>\n",
       "      <th>description</th>\n",
       "      <th>point</th>\n",
       "    </tr>\n",
       "    <tr>\n",
       "      <th>Parameter</th>\n",
       "      <th></th>\n",
       "      <th></th>\n",
       "    </tr>\n",
       "  </thead>\n",
       "  <tbody>\n",
       "    <tr>\n",
       "      <th>mean concave points</th>\n",
       "      <td>mean concave points &gt;= 0.03</td>\n",
       "      <td>-3</td>\n",
       "    </tr>\n",
       "    <tr>\n",
       "      <th>mean compactness</th>\n",
       "      <td>mean compactness &lt; 0.09</td>\n",
       "      <td>0</td>\n",
       "    </tr>\n",
       "    <tr>\n",
       "      <th>worst radius</th>\n",
       "      <td>worst radius &lt; 14.96</td>\n",
       "      <td>3</td>\n",
       "    </tr>\n",
       "  </tbody>\n",
       "</table>\n",
       "</div>"
      ],
      "text/plain": [
       "                                     description  point\n",
       "Parameter                                              \n",
       "mean concave points  mean concave points >= 0.03     -3\n",
       "mean compactness         mean compactness < 0.09      0\n",
       "worst radius                worst radius < 14.96      3"
      ]
     },
     "execution_count": 12,
     "metadata": {},
     "output_type": "execute_result"
    }
   ],
   "source": [
    "df_score_card['Parameter'] = df_score_card.index.str.split(' ').str.slice(0,-2).str.join(' ')\n",
    "\n",
    "df_score_card['description'] = df_score_card.index\n",
    "df_score_card.index = df_score_card['Parameter']\n",
    "df_score_card['feature'] = df_score_card['description'].copy()\n",
    "\n",
    "df_score_card[['description', 'point']].sort_values(by='point')"
   ]
  },
  {
   "cell_type": "code",
   "execution_count": 13,
   "metadata": {},
   "outputs": [
    {
     "data": {
      "text/html": [
       "<div>\n",
       "<style scoped>\n",
       "    .dataframe tbody tr th:only-of-type {\n",
       "        vertical-align: middle;\n",
       "    }\n",
       "\n",
       "    .dataframe tbody tr th {\n",
       "        vertical-align: top;\n",
       "    }\n",
       "\n",
       "    .dataframe thead th {\n",
       "        text-align: right;\n",
       "    }\n",
       "</style>\n",
       "<table border=\"1\" class=\"dataframe\">\n",
       "  <thead>\n",
       "    <tr style=\"text-align: right;\">\n",
       "      <th></th>\n",
       "      <th>0</th>\n",
       "      <th>1</th>\n",
       "      <th>2</th>\n",
       "      <th>3</th>\n",
       "      <th>4</th>\n",
       "      <th>5</th>\n",
       "      <th>6</th>\n",
       "    </tr>\n",
       "  </thead>\n",
       "  <tbody>\n",
       "    <tr>\n",
       "      <th>SCORE</th>\n",
       "      <td>-3</td>\n",
       "      <td>-2</td>\n",
       "      <td>-1</td>\n",
       "      <td>0</td>\n",
       "      <td>1</td>\n",
       "      <td>2</td>\n",
       "      <td>3</td>\n",
       "    </tr>\n",
       "    <tr>\n",
       "      <th>RISK</th>\n",
       "      <td>18.24%</td>\n",
       "      <td>37.75%</td>\n",
       "      <td>62.25%</td>\n",
       "      <td>81.76%</td>\n",
       "      <td>92.41%</td>\n",
       "      <td>97.07%</td>\n",
       "      <td>98.90%</td>\n",
       "    </tr>\n",
       "    <tr>\n",
       "      <th>_RISK_FLOAT</th>\n",
       "      <td>0.182426</td>\n",
       "      <td>0.377541</td>\n",
       "      <td>0.622459</td>\n",
       "      <td>0.817574</td>\n",
       "      <td>0.924142</td>\n",
       "      <td>0.970688</td>\n",
       "      <td>0.989013</td>\n",
       "    </tr>\n",
       "  </tbody>\n",
       "</table>\n",
       "</div>"
      ],
      "text/plain": [
       "                    0         1         2         3         4         5  \\\n",
       "SCORE              -3        -2        -1         0         1         2   \n",
       "RISK           18.24%    37.75%    62.25%    81.76%    92.41%    97.07%   \n",
       "_RISK_FLOAT  0.182426  0.377541  0.622459  0.817574  0.924142  0.970688   \n",
       "\n",
       "                    6  \n",
       "SCORE               3  \n",
       "RISK           98.90%  \n",
       "_RISK_FLOAT  0.989013  "
      ]
     },
     "execution_count": 13,
     "metadata": {},
     "output_type": "execute_result"
    }
   ],
   "source": [
    "df_score_table"
   ]
  },
  {
   "cell_type": "code",
   "execution_count": 14,
   "metadata": {},
   "outputs": [],
   "source": [
    "def predict_proba_perso(df_score_card,df_score_table_tmp, X):\n",
    "    df_score_table = df_score_table_tmp.copy().T.set_index('SCORE')\n",
    "    list_features = df_score_card['feature'].values\n",
    "    X_selected_features = X[list_features]\n",
    "    points = df_score_card['point'].values\n",
    "    X_total_points = np.matmul(X_selected_features.values,points)\n",
    "    proba = df_score_table.loc[X_total_points,'_RISK_FLOAT'].values.reshape(-1,1)\n",
    "\n",
    "    return np.concatenate([1-proba,proba],axis=1)"
   ]
  },
  {
   "cell_type": "code",
   "execution_count": 15,
   "metadata": {},
   "outputs": [
    {
     "data": {
      "image/png": "[encoded data removed]",
      "text/plain": [
       "<Figure size 700x700 with 1 Axes>"
      ]
     },
     "metadata": {},
     "output_type": "display_data"
    }
   ],
   "source": [
    "import matplotlib.pyplot as plt\n",
    "from sklearn.metrics import precision_recall_curve, average_precision_score\n",
    "\n",
    "\n",
    "y_proba = predict_proba_perso(df_score_card,df_score_table, X_test_binarized)[:, 1].reshape(-1,1)\n",
    "\n",
    "precision, recall, thresholds = precision_recall_curve(y_test.astype(int), y_proba)\n",
    "fig, ax = plt.subplots(figsize=(7, 7))\n",
    "plt.plot(recall, precision)\n",
    "average_precision = np.round(average_precision_score(y_test.astype(int),y_proba),3)\n",
    "title_PR_curve = f'Average precision : \\n{average_precision}'\n",
    "plt.title(title_PR_curve)\n",
    "plt.grid()\n",
    "plt.show()"
   ]
  },
  {
   "cell_type": "code",
   "execution_count": null,
   "metadata": {},
   "outputs": [],
   "source": []
  }
 ],
 "metadata": {
  "kernelspec": {
   "display_name": "Python 3.11.0 ('env_scorepyo')",
   "language": "python",
   "name": "python3"
  },
  "language_info": {
   "codemirror_mode": {
    "name": "ipython",
    "version": 3
   },
   "file_extension": ".py",
   "mimetype": "text/x-python",
   "name": "python",
   "nbconvert_exporter": "python",
   "pygments_lexer": "ipython3",
   "version": "3.10.6"
  },
  "orig_nbformat": 4,
  "vscode": {
   "interpreter": {
    "hash": "578783f19d13090087f56d1605783da64a909dbb97027d9a66203f7a6966f817"
   }
  }
 },
 "nbformat": 4,
 "nbformat_minor": 2
}
