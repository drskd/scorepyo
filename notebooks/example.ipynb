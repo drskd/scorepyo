{
 "cells": [
  {
   "cell_type": "markdown",
   "metadata": {},
   "source": [
    "# **Example : Breast cancer dataset**\n",
    "\n",
    "\n",
    "## Context\n",
    "**Risk-score model** are one of the most explicit/explanable model, and are used in psychology, medicine or justice.  \n",
    "The score of such model is computed via a sum of points, which are defined for each binary feature.  \n",
    "For each possible score value, risk-score model gives a probability of belonging to the positive class.\n",
    "\n",
    "----\n",
    "\n",
    "This notebook displays the usage of the scorepyo package on the breast cancer dataset.\n",
    "\n",
    "It shows two different components:\n",
    "* Automatic feature binarizer\n",
    "* Risk-score model\n",
    "\n",
    "### Automatic feature binarizer\n",
    "A risk-score type model can only be constructed based on binary features.  In most cases, datasets are constructed with a mix of continuous, categorical and binary features.  \n",
    "From there, we either manually engineer the binary features, or we can automatically construct them.\n",
    "\n",
    "A risk-score model is an additive model, therefore we need to craft binary features such that they help to predict by adding their contribution, modulo a coefficient. This corresponds to General Additive Model (GAM), that's why The `AutoBinarizer` class is based on a GAM that predicts the binary target.  \n",
    "The GAM used is an Explainable Boosting Machine (EBM), as EBM are good candidates for such a task. Indeed the individual feature function in EBMs is a single-feature tree. Binary features can be extracted by using the feature value intervals used to construct each single-feature tree. \n",
    "\n",
    "### Risk score model\n",
    "The scorepyo package aims to provide several ways to construct a risk-score model. \n",
    "\n",
    "The first one implemented is via the `OptunaRiskScore` class. This class leverages the efficient sampling abilities of Optuna to select both binary features and their associated points amount."
   ]
  },
  {
   "cell_type": "code",
   "execution_count": 1,
   "metadata": {},
   "outputs": [],
   "source": [
    "%load_ext autoreload\n",
    "%autoreload 2"
   ]
  },
  {
   "cell_type": "markdown",
   "metadata": {},
   "source": [
    "### Load dataset"
   ]
  },
  {
   "cell_type": "code",
   "execution_count": 2,
   "metadata": {},
   "outputs": [],
   "source": [
    "import numpy as np\n",
    "import pandas as pd\n",
    "\n",
    "from sklearn.model_selection import train_test_split\n",
    "from sklearn.datasets import load_breast_cancer\n",
    "\n",
    "data = load_breast_cancer()\n",
    "data_X, y = data.data, data.target\n",
    "\n",
    "X = pd.DataFrame(data=data_X, columns = data.feature_names)"
   ]
  },
  {
   "cell_type": "markdown",
   "metadata": {},
   "source": [
    "### Create artificial categorical variable"
   ]
  },
  {
   "cell_type": "code",
   "execution_count": 3,
   "metadata": {},
   "outputs": [],
   "source": [
    "X['category'] = np.where(X['mean smoothness'] <=0.1,'A','B')"
   ]
  },
  {
   "cell_type": "markdown",
   "metadata": {},
   "source": [
    "### Split train/test"
   ]
  },
  {
   "cell_type": "code",
   "execution_count": 4,
   "metadata": {},
   "outputs": [],
   "source": [
    "X_train, X_test, y_train, y_test = train_test_split(X,y,test_size=0.25, random_state=0)"
   ]
  },
  {
   "cell_type": "markdown",
   "metadata": {},
   "source": [
    "#### Create unknown category in test set"
   ]
  },
  {
   "cell_type": "code",
   "execution_count": 5,
   "metadata": {},
   "outputs": [],
   "source": [
    "X_test['category']='C'"
   ]
  },
  {
   "cell_type": "markdown",
   "metadata": {},
   "source": [
    "### Create automatically binary features \n",
    "\n",
    "The bnary feature creation is based on train dataset to detect them.  \n",
    "The train and tests dataset are then transformed."
   ]
  },
  {
   "cell_type": "code",
   "execution_count": 6,
   "metadata": {},
   "outputs": [],
   "source": [
    "from scorepyo.binary_featurizer import AutoBinarizer\n",
    "\n",
    "\n",
    "binarizer = AutoBinarizer(max_number_binaries_by_features=3,keep_negative=True)\n",
    "binarizer.fit(X_train,y_train, categorical_features='auto', to_exclude_features=None)\n",
    "\n",
    "X_train_binarized, df_info = binarizer.transform(X_train)\n",
    "X_test_binarized, _ = binarizer.transform(X_test)"
   ]
  },
  {
   "cell_type": "code",
   "execution_count": 7,
   "metadata": {},
   "outputs": [
    {
     "data": {
      "text/html": [
       "<div>\n",
       "<style scoped>\n",
       "    .dataframe tbody tr th:only-of-type {\n",
       "        vertical-align: middle;\n",
       "    }\n",
       "\n",
       "    .dataframe tbody tr th {\n",
       "        vertical-align: top;\n",
       "    }\n",
       "\n",
       "    .dataframe thead th {\n",
       "        text-align: right;\n",
       "    }\n",
       "</style>\n",
       "<table border=\"1\" class=\"dataframe\">\n",
       "  <thead>\n",
       "    <tr style=\"text-align: right;\">\n",
       "      <th></th>\n",
       "      <th>mean radius &lt; 12.26</th>\n",
       "      <th>12.26 &lt;= mean radius &lt; 14.66</th>\n",
       "      <th>mean radius &gt;= 14.66</th>\n",
       "      <th>mean texture &lt; 17.2</th>\n",
       "      <th>17.2 &lt;= mean texture &lt; 20.66</th>\n",
       "      <th>mean texture &gt;= 20.66</th>\n",
       "      <th>mean perimeter &lt; 78.69</th>\n",
       "      <th>78.69 &lt;= mean perimeter &lt; 95.84</th>\n",
       "      <th>mean perimeter &gt;= 95.84</th>\n",
       "      <th>mean area &lt; 462.45</th>\n",
       "      <th>...</th>\n",
       "      <th>0.08 &lt;= worst concave points &lt; 0.14</th>\n",
       "      <th>worst concave points &gt;= 0.14</th>\n",
       "      <th>worst symmetry &lt; 0.26</th>\n",
       "      <th>0.26 &lt;= worst symmetry &lt; 0.3</th>\n",
       "      <th>worst symmetry &gt;= 0.3</th>\n",
       "      <th>worst fractal dimension &lt; 0.07</th>\n",
       "      <th>0.07 &lt;= worst fractal dimension &lt; 0.09</th>\n",
       "      <th>worst fractal dimension &gt;= 0.09</th>\n",
       "      <th>category_A</th>\n",
       "      <th>category_B</th>\n",
       "    </tr>\n",
       "  </thead>\n",
       "  <tbody>\n",
       "    <tr>\n",
       "      <th>0</th>\n",
       "      <td>1</td>\n",
       "      <td>0</td>\n",
       "      <td>0</td>\n",
       "      <td>0</td>\n",
       "      <td>1</td>\n",
       "      <td>0</td>\n",
       "      <td>1</td>\n",
       "      <td>0</td>\n",
       "      <td>0</td>\n",
       "      <td>1</td>\n",
       "      <td>...</td>\n",
       "      <td>1</td>\n",
       "      <td>0</td>\n",
       "      <td>0</td>\n",
       "      <td>0</td>\n",
       "      <td>1</td>\n",
       "      <td>1</td>\n",
       "      <td>0</td>\n",
       "      <td>0</td>\n",
       "      <td>1</td>\n",
       "      <td>0</td>\n",
       "    </tr>\n",
       "    <tr>\n",
       "      <th>363</th>\n",
       "      <td>0</td>\n",
       "      <td>1</td>\n",
       "      <td>0</td>\n",
       "      <td>0</td>\n",
       "      <td>1</td>\n",
       "      <td>0</td>\n",
       "      <td>0</td>\n",
       "      <td>1</td>\n",
       "      <td>0</td>\n",
       "      <td>0</td>\n",
       "      <td>...</td>\n",
       "      <td>1</td>\n",
       "      <td>0</td>\n",
       "      <td>1</td>\n",
       "      <td>0</td>\n",
       "      <td>0</td>\n",
       "      <td>1</td>\n",
       "      <td>0</td>\n",
       "      <td>0</td>\n",
       "      <td>1</td>\n",
       "      <td>0</td>\n",
       "    </tr>\n",
       "    <tr>\n",
       "      <th>224</th>\n",
       "      <td>1</td>\n",
       "      <td>0</td>\n",
       "      <td>0</td>\n",
       "      <td>1</td>\n",
       "      <td>0</td>\n",
       "      <td>0</td>\n",
       "      <td>1</td>\n",
       "      <td>0</td>\n",
       "      <td>0</td>\n",
       "      <td>1</td>\n",
       "      <td>...</td>\n",
       "      <td>0</td>\n",
       "      <td>0</td>\n",
       "      <td>0</td>\n",
       "      <td>1</td>\n",
       "      <td>0</td>\n",
       "      <td>0</td>\n",
       "      <td>1</td>\n",
       "      <td>0</td>\n",
       "      <td>1</td>\n",
       "      <td>0</td>\n",
       "    </tr>\n",
       "  </tbody>\n",
       "</table>\n",
       "<p>3 rows × 92 columns</p>\n",
       "</div>"
      ],
      "text/plain": [
       "     mean radius < 12.26  12.26 <= mean radius < 14.66  mean radius >= 14.66  \\\n",
       "0                      1                             0                     0   \n",
       "363                    0                             1                     0   \n",
       "224                    1                             0                     0   \n",
       "\n",
       "     mean texture < 17.2  17.2 <= mean texture < 20.66  mean texture >= 20.66  \\\n",
       "0                      0                             1                      0   \n",
       "363                    0                             1                      0   \n",
       "224                    1                             0                      0   \n",
       "\n",
       "     mean perimeter < 78.69  78.69 <= mean perimeter < 95.84  \\\n",
       "0                         1                                0   \n",
       "363                       0                                1   \n",
       "224                       1                                0   \n",
       "\n",
       "     mean perimeter >= 95.84  mean area < 462.45  ...  \\\n",
       "0                          0                   1  ...   \n",
       "363                        0                   0  ...   \n",
       "224                        0                   1  ...   \n",
       "\n",
       "     0.08 <= worst concave points < 0.14  worst concave points >= 0.14  \\\n",
       "0                                      1                             0   \n",
       "363                                    1                             0   \n",
       "224                                    0                             0   \n",
       "\n",
       "     worst symmetry < 0.26  0.26 <= worst symmetry < 0.3  \\\n",
       "0                        0                             0   \n",
       "363                      1                             0   \n",
       "224                      0                             1   \n",
       "\n",
       "     worst symmetry >= 0.3  worst fractal dimension < 0.07  \\\n",
       "0                        1                               1   \n",
       "363                      0                               1   \n",
       "224                      0                               0   \n",
       "\n",
       "     0.07 <= worst fractal dimension < 0.09  worst fractal dimension >= 0.09  \\\n",
       "0                                         0                                0   \n",
       "363                                       0                                0   \n",
       "224                                       1                                0   \n",
       "\n",
       "     category_A  category_B  \n",
       "0             1           0  \n",
       "363           1           0  \n",
       "224           1           0  \n",
       "\n",
       "[3 rows x 92 columns]"
      ]
     },
     "execution_count": 7,
     "metadata": {},
     "output_type": "execute_result"
    }
   ],
   "source": [
    "X_train_binarized.sample(3)"
   ]
  },
  {
   "cell_type": "markdown",
   "metadata": {},
   "source": [
    "### Display information from binarizer\n",
    "\n",
    "The binarizer also outputs a dataframe containing information about the binarizer. \n",
    "This information can be later used to for the display of the `OptunaRiskScore` model."
   ]
  },
  {
   "cell_type": "code",
   "execution_count": 8,
   "metadata": {},
   "outputs": [
    {
     "data": {
      "text/html": [
       "<div>\n",
       "<style scoped>\n",
       "    .dataframe tbody tr th:only-of-type {\n",
       "        vertical-align: middle;\n",
       "    }\n",
       "\n",
       "    .dataframe tbody tr th {\n",
       "        vertical-align: top;\n",
       "    }\n",
       "\n",
       "    .dataframe thead th {\n",
       "        text-align: right;\n",
       "    }\n",
       "</style>\n",
       "<table border=\"1\" class=\"dataframe\">\n",
       "  <thead>\n",
       "    <tr style=\"text-align: right;\">\n",
       "      <th></th>\n",
       "      <th>EBM_log_odds_contribution</th>\n",
       "      <th>lower_threshold</th>\n",
       "      <th>upper_threshold</th>\n",
       "      <th>feature</th>\n",
       "    </tr>\n",
       "    <tr>\n",
       "      <th>binary_feature</th>\n",
       "      <th></th>\n",
       "      <th></th>\n",
       "      <th></th>\n",
       "      <th></th>\n",
       "    </tr>\n",
       "  </thead>\n",
       "  <tbody>\n",
       "    <tr>\n",
       "      <th>mean radius &lt; 12.26</th>\n",
       "      <td>0.135708</td>\n",
       "      <td>NaN</td>\n",
       "      <td>12.26</td>\n",
       "      <td>mean radius</td>\n",
       "    </tr>\n",
       "    <tr>\n",
       "      <th>12.26 &lt;= mean radius &lt; 14.66</th>\n",
       "      <td>0.086529</td>\n",
       "      <td>12.26</td>\n",
       "      <td>14.66</td>\n",
       "      <td>mean radius</td>\n",
       "    </tr>\n",
       "    <tr>\n",
       "      <th>mean radius &gt;= 14.66</th>\n",
       "      <td>-0.222237</td>\n",
       "      <td>14.66</td>\n",
       "      <td>NaN</td>\n",
       "      <td>mean radius</td>\n",
       "    </tr>\n",
       "    <tr>\n",
       "      <th>mean texture &lt; 17.2</th>\n",
       "      <td>0.740917</td>\n",
       "      <td>NaN</td>\n",
       "      <td>17.205</td>\n",
       "      <td>mean texture</td>\n",
       "    </tr>\n",
       "    <tr>\n",
       "      <th>17.2 &lt;= mean texture &lt; 20.66</th>\n",
       "      <td>0.056726</td>\n",
       "      <td>17.205</td>\n",
       "      <td>20.665</td>\n",
       "      <td>mean texture</td>\n",
       "    </tr>\n",
       "    <tr>\n",
       "      <th>...</th>\n",
       "      <td>...</td>\n",
       "      <td>...</td>\n",
       "      <td>...</td>\n",
       "      <td>...</td>\n",
       "    </tr>\n",
       "    <tr>\n",
       "      <th>0.07 &lt;= worst fractal dimension &lt; 0.09</th>\n",
       "      <td>0.372596</td>\n",
       "      <td>0.07428</td>\n",
       "      <td>0.08649</td>\n",
       "      <td>worst fractal dimension</td>\n",
       "    </tr>\n",
       "    <tr>\n",
       "      <th>worst fractal dimension &gt;= 0.09</th>\n",
       "      <td>-0.156302</td>\n",
       "      <td>0.08649</td>\n",
       "      <td>NaN</td>\n",
       "      <td>worst fractal dimension</td>\n",
       "    </tr>\n",
       "    <tr>\n",
       "      <th>category_A</th>\n",
       "      <td>None</td>\n",
       "      <td>None</td>\n",
       "      <td>None</td>\n",
       "      <td>category</td>\n",
       "    </tr>\n",
       "    <tr>\n",
       "      <th>category_B</th>\n",
       "      <td>None</td>\n",
       "      <td>None</td>\n",
       "      <td>None</td>\n",
       "      <td>category</td>\n",
       "    </tr>\n",
       "    <tr>\n",
       "      <th>intercept</th>\n",
       "      <td>1.367172</td>\n",
       "      <td>None</td>\n",
       "      <td>None</td>\n",
       "      <td>intercept</td>\n",
       "    </tr>\n",
       "  </tbody>\n",
       "</table>\n",
       "<p>93 rows × 4 columns</p>\n",
       "</div>"
      ],
      "text/plain": [
       "                                       EBM_log_odds_contribution  \\\n",
       "binary_feature                                                     \n",
       "mean radius < 12.26                                     0.135708   \n",
       "12.26 <= mean radius < 14.66                            0.086529   \n",
       "mean radius >= 14.66                                   -0.222237   \n",
       "mean texture < 17.2                                     0.740917   \n",
       "17.2 <= mean texture < 20.66                            0.056726   \n",
       "...                                                          ...   \n",
       "0.07 <= worst fractal dimension < 0.09                  0.372596   \n",
       "worst fractal dimension >= 0.09                        -0.156302   \n",
       "category_A                                                  None   \n",
       "category_B                                                  None   \n",
       "intercept                                               1.367172   \n",
       "\n",
       "                                       lower_threshold upper_threshold  \\\n",
       "binary_feature                                                           \n",
       "mean radius < 12.26                                NaN           12.26   \n",
       "12.26 <= mean radius < 14.66                     12.26           14.66   \n",
       "mean radius >= 14.66                             14.66             NaN   \n",
       "mean texture < 17.2                                NaN          17.205   \n",
       "17.2 <= mean texture < 20.66                    17.205          20.665   \n",
       "...                                                ...             ...   \n",
       "0.07 <= worst fractal dimension < 0.09         0.07428         0.08649   \n",
       "worst fractal dimension >= 0.09                0.08649             NaN   \n",
       "category_A                                        None            None   \n",
       "category_B                                        None            None   \n",
       "intercept                                         None            None   \n",
       "\n",
       "                                                        feature  \n",
       "binary_feature                                                   \n",
       "mean radius < 12.26                                 mean radius  \n",
       "12.26 <= mean radius < 14.66                        mean radius  \n",
       "mean radius >= 14.66                                mean radius  \n",
       "mean texture < 17.2                                mean texture  \n",
       "17.2 <= mean texture < 20.66                       mean texture  \n",
       "...                                                         ...  \n",
       "0.07 <= worst fractal dimension < 0.09  worst fractal dimension  \n",
       "worst fractal dimension >= 0.09         worst fractal dimension  \n",
       "category_A                                             category  \n",
       "category_B                                             category  \n",
       "intercept                                             intercept  \n",
       "\n",
       "[93 rows x 4 columns]"
      ]
     },
     "execution_count": 8,
     "metadata": {},
     "output_type": "execute_result"
    }
   ],
   "source": [
    "df_info"
   ]
  },
  {
   "cell_type": "markdown",
   "metadata": {},
   "source": [
    "#### Train ScoreCard model\n",
    "\n",
    "The ScoreCard models can take 4 parameters:\n",
    "* `nb_max_features` : number of maximum binary features to use for the risk score model\n",
    "* `min_point_value` : minimum possible number of points for each binary feature\n",
    "* `max_point_value` : maximum possible number of points for each binary feature\n",
    "* `df_info`         : optional dataframe containing the correspondance between original feature and the binary feature. It must contain 2 columns *feature* and *binary_feature*.\n",
    "\n",
    "Since the `OptunaRiskScore` model is based on Optuna, we can also pass specific optuna optimize function parameters via a dictionnary in the  `optuna_optimize_params` parameter."
   ]
  },
  {
   "cell_type": "code",
   "execution_count": 23,
   "metadata": {},
   "outputs": [],
   "source": [
    "from scorepyo.models import OptunaRiskScore\n",
    "\n",
    "\n",
    "scorepyo_model = OptunaRiskScore(nb_max_features=4, min_point_value=-1, max_point_value=2, df_info=df_info['feature'].reset_index())\n",
    "\n",
    "scorepyo_model.fit(X_train_binarized, y_train)\n"
   ]
  },
  {
   "cell_type": "markdown",
   "metadata": {},
   "source": [
    "#### Display the summary of the risk score model\n",
    "\n",
    "The summary of the risk score built by the model.  \n",
    "\n",
    "It displays two elements :\n",
    "* Feature-point card : Points for each selected binary feature\n",
    "* Score card : Scores (=sum of points) with their associated probability"
   ]
  },
  {
   "cell_type": "code",
   "execution_count": 24,
   "metadata": {},
   "outputs": [
    {
     "name": "stdout",
     "output_type": "stream",
     "text": [
      "======================\n",
      "| FEATURE-POINT CARD |\n",
      "======================\n",
      "| Feature          | Description             | Point(s)   |       |\n",
      "|:-----------------|:------------------------|:-----------|:------|\n",
      "| mean perimeter   | mean perimeter >= 95.84 | -1         | ...   |\n",
      "| mean compactness | mean compactness < 0.08 | 1          | + ... |\n",
      "| radius error     | radius error < 0.25     | 2          | + ... |\n",
      "| worst radius     | worst radius < 13.53    | 2          | + ... |\n",
      "|                  |                         | SCORE=     | ...   |\n",
      "\n",
      "=======================================\n",
      "=======================================\n",
      "\n",
      "======================\n",
      "|     SCORE CARD     |\n",
      "======================\n",
      "| SCORE   | -1     | 0      | 1      | 2      | 3      | 4      | 5      |\n",
      "|:--------|:-------|:-------|:-------|:-------|:-------|:-------|:-------|\n",
      "| RISK    | 18.24% | 37.75% | 62.25% | 81.76% | 92.41% | 97.07% | 98.90% |\n"
     ]
    }
   ],
   "source": [
    "scorepyo_model.summary()"
   ]
  },
  {
   "cell_type": "markdown",
   "metadata": {},
   "source": [
    "#### Precision-Recall curve on test set"
   ]
  },
  {
   "cell_type": "code",
   "execution_count": 25,
   "metadata": {},
   "outputs": [
    {
     "data": {
      "image/png": "[encoded data removed]",
      "text/plain": [
       "<Figure size 700x700 with 1 Axes>"
      ]
     },
     "metadata": {},
     "output_type": "display_data"
    }
   ],
   "source": [
    "import matplotlib.pyplot as plt\n",
    "from sklearn.metrics import precision_recall_curve, average_precision_score\n",
    "\n",
    "\n",
    "y_proba = scorepyo_model.predict_proba(X_test_binarized)[:, 1].reshape(-1,1)\n",
    "\n",
    "precision, recall, thresholds = precision_recall_curve(y_test.astype(int), y_proba)\n",
    "fig, ax = plt.subplots(figsize=(7, 7))\n",
    "plt.plot(recall, precision)\n",
    "average_precision = np.round(average_precision_score(y_test.astype(int),y_proba),3)\n",
    "title_PR_curve = f'Average precision : \\n{average_precision}'\n",
    "plt.title(title_PR_curve)\n",
    "plt.xlabel('Recall')\n",
    "plt.ylabel('Precision')\n",
    "plt.grid()\n",
    "plt.show()"
   ]
  },
  {
   "cell_type": "code",
   "execution_count": null,
   "metadata": {},
   "outputs": [],
   "source": []
  }
 ],
 "metadata": {
  "kernelspec": {
   "display_name": "Python 3.9.15 ('env_scorepyo_without_setuppy')",
   "language": "python",
   "name": "python3"
  },
  "language_info": {
   "codemirror_mode": {
    "name": "ipython",
    "version": 3
   },
   "file_extension": ".py",
   "mimetype": "text/x-python",
   "name": "python",
   "nbconvert_exporter": "python",
   "pygments_lexer": "ipython3",
   "version": "3.9.15"
  },
  "orig_nbformat": 4,
  "vscode": {
   "interpreter": {
    "hash": "e746fec48abda6224573652c21b66cdde6d6035f1336b7c5e8e7f1b99ef46209"
   }
  }
 },
 "nbformat": 4,
 "nbformat_minor": 2
}
